{
 "cells": [
  {
   "cell_type": "markdown",
   "metadata": {},
   "source": [
    "\n",
    "  <font size= 15>\n",
    " <font color='red'>\n",
    "Analysis of  el niño data\n",
    " </font> \n",
    "  </font> "
   ]
  },
  {
   "cell_type": "markdown",
   "metadata": {},
   "source": [
    "### José Ángel Tinoco Carrillo "
   ]
  },
  {
   "cell_type": "markdown",
   "metadata": {},
   "source": [
    "<img src=\"https://s1.elespanol.com/2016/12/16/social/memes-humor-redes_sociales_178744040_23538138_1706x960.jpg\" width=\"600\">\n",
    "<br> \n",
    "\n",
    "***El niño*** **or something, idk , I dont study oceanography**\n",
    "\n",
    "In the present work, sea surface temperature data will be analyzed to investigate the patterns and natural phenomena that influence temperatures over the tropical Pacific, such as el niño, its variants,ocean currents ,and climate change, mentioning the overall effect these have over the climate regionally and globally. The study of these phenomena allows us to better understand the intricate systems that influence climate globally, allowing us to predict and prepare for each particular atypical climate event, saving money and human lives on a global scale.\n",
    "\n",
    "The dataset to be analyzed contains historical sea surface temperature data from all oceans spanning from 1854 up until 2021. We will subset the data over the tropical Pacific, over the niño 3.4 region, and within the 1910-2010 time frame. Analysis will be carried out on the data subsets, mainly Fourier analysis and EOF analysis, identifying along the way some of the elements that contribute to Pacific temperatures."
   ]
  },
  {
   "cell_type": "markdown",
   "metadata": {},
   "source": [
    "## El niño\n",
    "The El Niño Southern Oscillation (ENSO) is a phenomenon that occurs in the tropical Pacific, which consists of sea surface temperature fluctuations, with a warmer period (el niño) and a colder period (la niña). These temperature changes have far-reaching effects worldwide . The National Ocenaographic and Atmospheric Administration gives a reference on the frequence of these events: 'Episodes of El Niño and La Niña typically last nine to 12 months, but can sometimes last for years. El Niño and La Niña events occur every two to seven years, on average, but they don’t occur on a regular schedule. Generally, El Niño occurs more frequently than La Niña' (2010, paragraph 1).\n",
    "<br>The focus of this study is on El Niño events,which have effects all over the globe, like floods, droughts, anomalous rainfall patterns , extreme weather phenomena like hurricanes, among others, and are key to understanding climate, not only in the Pacific, but worldwide."
   ]
  },
  {
   "cell_type": "markdown",
   "metadata": {},
   "source": [
    "## Measuring el niño\n",
    "El niño's effects are most present on the eastern Pacific ocean, so, to monitor the occurrence of el niños and la niñas,scientists have partitioned the eastern Pacific Ocean into smaller regions to better monitor these phenomena. The most important of these regions are the niño 3 and niño 3.4 regions, which can be used to define el niño events:\n",
    "\"The most commonly used regions for ENSO monitoring are Regions 3 and 3.4. In el niño events, sea surface temperature anomalies are greater than 0.5 degress Celsius above normal. In the strongest events, the anomalies over the key regions exceed 2 degrees Celcius. In la niña events,sea surface temperature anomalies are more than 0.5 degrees Celsius below normal. In the strongest events, temperature anomalies may exceed 2 degrees below normal.\" (D'Aleo,2002, page 73)\n",
    "\n",
    "This means that to detect el niños, it is essential to zoom in to the niño 3.4 zone, located between 5 degrees north and 5 degrees south in latitude, and 170 degrees west and 120 degrees west in longitude, and look out for positive anomalies exceeding 0.5 °C. However, it must be mentioned that this doesn´t apply to all el niños, as we will discuss further."
   ]
  },
  {
   "cell_type": "markdown",
   "metadata": {},
   "source": [
    "## El niño variants"
   ]
  },
  {
   "cell_type": "markdown",
   "metadata": {},
   "source": [
    "<img src=\"https://archives.bulbagarden.net/media/upload/0/0d/Pikachu_Shiny_Mew.png\" width=\"600\">\n",
    "\n",
    "\n",
    "*Pictured* : El niño and el niño modoki battling it out for dominance over the pacific.\n",
    "\n",
    "\n",
    "El niño is a very difficult phenomenon to comprehend and study precisely because it is comprised of several moving, semi-random parts, spread across expansive geographic regions. Slight changes in these factors could lead to different variations of this phenomenon. The normal el niño, the one we think of when mentioning the phenomenon, is called *the canonical el niño*, and it has strong influence over the east Pacific, causing heat anomalies in sea surface temperatures in that region. The canonical el niño happens around every 2-7 years as mentioned previously, and more literature supports this fact:\n",
    "<br>\"Spectral analyses of atmospheric or oceanic variables influenced by ENSO phases show significant energy in tropospheric quasi-biennial (QB) (around 18-35 months) and lower frequency (LF) (around 32-88 months) bands\" (Allan, 1996, page 38).\n",
    "\n",
    "However, the canonical el niño is not the only version of this climate phenomenon; as literature also suggests that this phenomenom could have some long period components, exhibiting periods longer than the previously stipulated 2-7 years:\n",
    "\n",
    "\n",
    "<img src=\"ass4_images/niño_periods.jpg\" width=\"600\">\n",
    "<br>\n",
    "(Diaz,2000, page 15) Multitaper frequency-domain singular value decomposition analysis of global sea ice, and sea surface temperature data (GISST), and global mean sea level pressure data (GMSLP). The 99, 90 and 50% to the right side of the graph are representing statistical confidence intervals. The labels on the vertical axis to the left are representing local fractional variance (LSV).\n",
    "\n",
    "The image above shows that el niño is composed quasi-biennial period waves, 3-7 year waves, and some other, unnamed 11-12 year period waves, and  16-18 period waves. These last 2 longer period el niño components can be affirmed with a certain degree of confidence, with even longer period components being possible, but needing further careful study to affirm or disprove their existence. With this the question remains, what kinds of el niños do these 11-12 year and 16-18 year period bands correspond to?\n",
    "<br>Some possible answers are *el niño godzilla* and *el niño modoki*, two niño variants that have been the focus of study in the last couple of decades.\n",
    "\n",
    "### El niño godzilla\n",
    "The super el niños, or el niño godzillas, are similar to canonical el niños, but specially intense, so much so, extreme climate phenomena occurring during them can prove extremely destructive. Such powerful abnormal phenomena occurred in 1982-1983, 1997-1998, and 2015-2016, and the 2023-2024 el niño could also be categorized as a super el niño, according to Gilbert, \" from November to January, the temperature of the tropical Pacific Ocean where El Niño originates was 2 degrees Celsius warmer than normal, according to NOAA’s Climate Prediction center – a threshold that has only been breached six times on record\" (2024,paragraph 2).\n",
    "\n",
    "As mentioned beforehand, the extreme effects of super el niños can cause droughts, fires, floods, snowing and hurricanes, among many other drastic weather events. For example, the 1982-1983 super el niño directly caused hurricanes in French Polynesia, according to Philander: \"the eastern tropical Pacific had become so exceptionally warm that the region of tropical storm genesis was moved far eastward. French Polynesia, noted for its benign climate, was battered by five full-blown hurricanes during El Niño of 1982-1983\" (1990, page 40). And such extreme events do have a huge economic cost attached to them: the mentioned hurricanes and tropical storms that hit Tahiti and French Polynesia during 1982-1983 amounted to losses of 50 million dollars (D'Aleo, page 99).\n",
    "\n",
    "For more context, let's observe the magnitude of temperature anomalies during one of such events. Below is a map of SST anomalies of november 2015 , during the 2015-2016 super el niño:\n",
    "\n",
    "<img src=\"data_ass3/nino_2015.jpg\" width=\"800\"> \n",
    "<br> (Stockdale, 2017)\n",
    "\n",
    "As was mentioned before, during an el niño, a 0.5 to 2 ° C anomaly above normal is expected over the niño 3.4 region. However, the map above shows a massive 3°C over some parts of the niño 3.4 region, signifying a  particularly strong el niño event. It is clear that el niño godzillas are noteworthy climate phenomena that must be prepared for and studied more in depth, to find better strategies to mitigate their effects, and to discern whether their nature and frequency is natural or anthropogenic. \n",
    "### El niño modoki\n",
    "Another el niño variant of interest is el niño modoki, which distinguishes itself by showing SST anomalies in the central Pacific, rather than being localized to the eastern Pacific, this fact changes the effects it has on worldwide climate, completely changing the affected places, and flipping the expected el niño effects in other regions, as shown by Seow:\n",
    "\n",
    "<img src=\"https://aipp.silverchair-cdn.com/aipp/content_public/journal/physicstoday/71/12/10.1063_pt.3.4092/2/50_1_f1.jpeg?Expires=1718430023&Signature=M9ZWoHk8tT~LjtQtd5DdRh7wL7KkOaCkCdljefv9FuG6fquSh5DmAqAMaLTNqWh7ZKnONG2BlBYV1jknGhMHoib4uWvcc832BhnfbcEON95fgy9bNfpxs03ouAdO1dQlmuzb~xFD~-RWZe0mPdMaAp4TgZxhOb-HECpMqz8fyBF2kmg6Xy~LAZfdXYXczzZWqQ8mroiJy7qEOuKkgp8mDzVaXMiL1wYglwsDo3uYRIecQ9LJPEVFhbgGYLnoUSS9en-bWfgByAKOrXafGidQbmM6wr0Sp6HUqG~L2JaNgfBiDr-43TtIVgdrSBOFctZzf2GVFfuUEFC8rmxTsvc9oA__&Key-Pair-Id=APKAIE5G5CRDK6RD3PGA\" width=\"600\">\n",
    "<br>\n",
    "(Seow,2018, page 52) The image above shows the combined boreal summer anomalies in SST and skin temperature over land caused by 3 el niño events (1982,1984 and 1997) and 3 el niño modoki events (1994,2002 and 2004).\n",
    "\n",
    "There are several things to note from the image above:\n",
    "* In canonical el niños, the eastern Pacific experiences marked warming, and is the well defined area to identify el niños. Meanwhile, on el niño modokis, heat occurs over the  central Pacific, and extends much more north, reaching the northern Pacific.\n",
    "* During el niño modoki, temperature tendencies are flipped in some places,in comparison to el niño. Some examples are the north of Mexico and the western coast of the US, which experience hotter temperatures during el niño modokis, but not during canonical el niños. Similar cases can be found on eastern Europe and in the north of China and Mongolia.\n",
    "* Some places affected by canonical el niños, aren't affected at all by el niño modokis, and the other way around. For example, Chile, Peru, Colombia, Ecuador and Argentina suffer extreme heat during el niño events, but are affected by el niño modoki. Another interesting example of this is the Arctic ocean, which goes mostly unaffected by normal el niños, but is hotter during el niño modokis.\n",
    "\n",
    "One example of the effects of el niño modoki is the impact on rainfall, shown through data of the US, Japan and China:\n",
    "<br>\n",
    "<img src=\"https://media.springernature.com/lw685/springer-static/image/art%3A10.1007%2Fs00382-007-0234-0/MediaObjects/382_2007_234_Fig3_HTML.gif?as=webp\" width=\"600\">\n",
    "<br>\n",
    "(Weng,2007) Top row: normal summer rainfall 1979-2005. Middle row: Impact of el niño modoki events on rainfall. Bottom row: Impact of el niño events on rainfall. Middle and bottom rows are anomalies percent compared to normal values.\n",
    "\n",
    "As seen from the graphic above, the western US is a great example of the changes between el niño and el niño modoki. During el niños, it has increased rainfall, but during el niño modokis, it experiences a huge decrease in rainfall, possibly causing droughts. Western Japan exhibits a similar pattern.\n",
    "\n",
    "All this shows that el niño modoki is a very relevant climate pattern, capable of causing as much disruption as other kinds of el niños. Therefore, it is essential to prepare for it, for it has its particular effects, that we should prepare for accordingly."
   ]
  },
  {
   "cell_type": "markdown",
   "metadata": {},
   "source": [
    "## Data analysis time\n",
    "\n",
    "<img src=\"https://miro.medium.com/v2/resize:fit:625/1*C-zXmTMHObZWyZBUbdruGg.jpeg\" width=\"600\">\n",
    "<br>Pictured, me trying to finish the assignment in a single 10 hour marathon!"
   ]
  },
  {
   "cell_type": "code",
   "execution_count": 5,
   "metadata": {},
   "outputs": [],
   "source": [
    "# The always reliable python packages!\n",
    "import pandas as pd\n",
    "import seaborn as sns\n",
    "import matplotlib.animation as animation\n",
    "from IPython.display import Image, display\n",
    "import numpy as np\n",
    "import matplotlib.pyplot as plt\n",
    "xkcd = False \n",
    "if xkcd:\n",
    "    plt.xkcd()\n",
    "import xarray as xr\n",
    "from scipy import signal\n",
    "from sklearn.decomposition import PCA\n",
    "import matplotlib.ticker as ticker\n",
    "import warnings\n",
    "import cartopy\n",
    "import cartopy.crs as ccrs\n",
    "from cartopy.mpl.gridliner import LONGITUDE_FORMATTER, LATITUDE_FORMATTER\n",
    "from mpl_toolkits.axes_grid1 import make_axes_locatable\n",
    "sns.set_style('whitegrid')\n",
    "pcarree = ccrs.PlateCarree()"
   ]
  },
  {
   "cell_type": "code",
   "execution_count": 6,
   "metadata": {},
   "outputs": [],
   "source": [
    "#Import the dataset\n",
    "df = xr.open_dataset(\"ersstv5_sst.nc\",engine='netcdf4')"
   ]
  },
  {
   "cell_type": "markdown",
   "metadata": {},
   "source": [
    "### EL NIÑO 3.4 ANALYSIS"
   ]
  },
  {
   "cell_type": "markdown",
   "metadata": {},
   "source": [
    "To analyze time series data for the niño 3.4 region, we must get data from the appropiate location mentioned before (5N-5S, 170W-120W):"
   ]
  },
  {
   "cell_type": "code",
   "execution_count": 7,
   "metadata": {},
   "outputs": [],
   "source": [
    "target_lon, target_lat = slice(190, 240), slice(-5, 5)\n",
    "\n",
    "# Select the values for the appropiate longitudes and latitudes. Also, drop altitude along the way (there is only 1).\n",
    "sst = df[\"sst\"].isel(lev=0).sel(lon=target_lon, lat=target_lat)"
   ]
  },
  {
   "cell_type": "markdown",
   "metadata": {},
   "source": [
    "Next up is calculating an average over the desired space, generating time series data of temperature. From this data, we will get a rolling average and a trend.\n",
    "<br>The simple average, rolling average and trend will be plotted."
   ]
  },
  {
   "cell_type": "code",
   "execution_count": null,
   "metadata": {},
   "outputs": [],
   "source": [
    "# Most of the code here comes from the sample file for this assignment.\n",
    "# Get the spatial mean of the data and get a rolling average of said mean.\n",
    "sst_mean = sst.mean(dim=[\"lat\", \"lon\"], skipna=True)\n",
    "sst_rolling = sst_mean.rolling(time=12, center=True).mean(skipna=True).dropna(\"time\", how=\"all\")\n",
    "\n",
    "# Slice the data to get rid of NaNs.\n",
    "target_t = slice(\"1910\", \"2010\")  # select analysis period.\n",
    "sst_mean = sst_mean.sel(time=target_t)\n",
    "sst_rolling = sst_rolling.sel(time=target_t)\n",
    "\n",
    "# Get linear trend.\n",
    "time = sst_mean[\"time\"].values  # Convert to NumPy array\n",
    "elapsed_time = (np.datetime64(time[-1], 'Y') - np.datetime64(time[0], 'Y')).astype(int)  # Convert to years\n",
    "start_year = np.datetime64(time[0], 'Y').astype(str).astype(int)  # Get the year as an integer\n",
    "t_vec = np.linspace(start_year, start_year + elapsed_time, len(time)) #Time vector for polyfit\n",
    "p = np.polyfit(t_vec, sst_mean, deg=1)\n",
    "lin_trend = np.polyval(p, t_vec)\n",
    "\n",
    "# Plot. \n",
    "fig = plt.figure(figsize=(10, 4))\n",
    "ax = plt.axes()\n",
    "ax.plot(time, sst_mean, alpha=0.7), ax.plot(time, sst_rolling, 'k--'), ax.plot(time, lin_trend, \"C3--\")\n",
    "ax.set_title('Niño 3.4 region SST data'), ax.set_ylabel('Temperature (°C)'),ax.set_xlabel('Year')"
   ]
  },
  {
   "cell_type": "markdown",
   "metadata": {},
   "source": [
    "Notable from the graph above is that within the chosen time frame, there is a positive trend. This trend is most likely climate change, since the data spans a huge time frame, it is definitely possible for it to pick up the anthropogenic temperature increases in recent decades.  So next up is to perform a Fourier analysis on this data, and try to see what are the dominant wave frequencies/periods in the data."
   ]
  },
  {
   "cell_type": "markdown",
   "metadata": {},
   "source": [
    "For the Fourier analysis, I was sustainable and ecological, and I recycled my Fourier analysis function from last last assignment, with a few tweaks of course."
   ]
  },
  {
   "cell_type": "code",
   "execution_count": 9,
   "metadata": {},
   "outputs": [],
   "source": [
    "#Declared a function containing all the fourier transformation operations, which plots the original signals, wavenumbers, frequencies and periods.\n",
    "#Also sets an annotation on the max value on the period graph.\n",
    "def plot_fourier(dataset, color):\n",
    "    fig, ([ax1, ax2], [ax3, ax4]) = plt.subplots(2, 2, figsize=(18, 10))\n",
    "    fig.suptitle('Fourier analysis', font='times new roman',size=20)\n",
    "    f_h = np.fft.rfft(dataset['Temp'])        #Do the fast four transform.\n",
    "    ax1.plot(dataset['Date'], dataset['Temp'], color=color)\n",
    "    ax1.set_xlabel(r\"$t$\")\n",
    "    ax1.set_ylabel(r\"$f$\")\n",
    "    ax1.set_title('Signal plot')\n",
    "    k_vec = np.arange(len(f_h))     #wavenumber array.\n",
    "    ax2.loglog(k_vec, abs(f_h[k_vec])**2, markersize=12, color=color)   ##Loglog graphs, normal ones aren´t very useful.\n",
    "    ax2.set_xlabel(r\"$k$\")\n",
    "    ax2.set_ylabel(r\"$\\hat{f}$\")\n",
    "    ax2.set_title('Wavenumber plot')\n",
    "    t0 = dataset[\"Date\"].values[0]\n",
    "    tf = dataset[\"Date\"].values[-1]\n",
    "    L = (tf - t0) / np.timedelta64(1, 's') #Get the total lenght of time to scale the wavenumber array.\n",
    "    L /= (24 * 3600 * 365 ) #Format it in years\n",
    "    scale_factor = 2.0 * np.pi / L \n",
    "    k_vec = np.arange(len(f_h), dtype=np.float64)\n",
    "    k_vec[0] = np.nan\n",
    "    k_mod = k_vec * scale_factor      # properly scaled wavenumber for the L.\n",
    "    freq_vec = k_mod / (2.0 * np.pi)  # frequency from the scaled wavenumber.\n",
    "    peri_vec = 2.0 * np.pi / k_mod    # period from the scaled wavenumber.\n",
    "    ax3.loglog(freq_vec, abs(f_h)**2, color=color), ax3.set_xlabel(r\"$\\mathsf{f}\\ (\\mathrm{year}^{-1})$\"), ax3.set_ylabel(r\"$|f_h|^2$\"), ax3.set_title('Frequency plot')\n",
    "    ax4.loglog(peri_vec, abs(f_h)**2, color=color), ax4.set_xlabel(r\"$T\\ (\\mathrm{Years})$\"), ax4.set_title('Period plot'),  ax4.set_ylabel(r\"$|f_h|^2$\")\n",
    "    ax4.xaxis.set_major_formatter(ticker.FuncFormatter(lambda x, pos: '{:g}'.format(x))) #Format x axis to normal format rather than scientific, AI lent a hand.\n",
    "    #Got the max value and annotated, AI helped, code was finicky, so I left a version that worked well.\n",
    "    max_indices = np.argsort(abs(f_h)**2)[-2:]\n",
    "    with warnings.catch_warnings():\n",
    "        warnings.filterwarnings(\"ignore\", message=\"posx and posy should be finite values\")\n",
    "        for index in max_indices:\n",
    "            x = peri_vec[index]\n",
    "            y = abs(f_h[index])**2\n",
    "            with warnings.catch_warnings():\n",
    "                warnings.filterwarnings(\"ignore\", category=UserWarning)\n",
    "                ax4.annotate(f\" {x:.2f}\", xy=(x, y), xytext=(x, y), ha='center')\n",
    "    plt.tight_layout()"
   ]
  },
  {
   "cell_type": "markdown",
   "metadata": {},
   "source": [
    "Also brought back the detrending function, and added lines on y=0.5 and y=-0.5, to see possible el niño episodes."
   ]
  },
  {
   "cell_type": "code",
   "execution_count": 10,
   "metadata": {},
   "outputs": [],
   "source": [
    "def detrender(data,color):\n",
    "    time = range(0, len(data['Date']))\n",
    "    coefficients = np.polyfit(time, data['Temp'], 1)\n",
    "    trend = np.polyval(coefficients, time)\n",
    "    # Detrend the original signal by subtracting the trend component.\n",
    "    detrended_signal = data['Temp'] - trend\n",
    "    detrended = pd.DataFrame()\n",
    "    detrended['Date'] = pd.to_datetime(data['Date'])\n",
    "    detrended['Temp'] = detrended_signal\n",
    "    fig, ax = plt.subplots(figsize=(10, 4))\n",
    "    ax.plot(detrended['Date'], detrended['Temp'],color=color)\n",
    "    ax.set_title('Anomalies')\n",
    "    plt.xlabel(\"Time\")\n",
    "    plt.ylabel(\"Temperature\")                                        \n",
    "    max_index = (abs(detrended['Temp']).idxmax())  # Find the index and value of the biggest anomaly point\n",
    "    max_index_x=max_index+500\n",
    "    max_value = detrended['Temp'][max_index]\n",
    "    #Annotate the point on the plot.\n",
    "    ax.annotate(f'Biggest anomaly: {max_value:.2f}', xy=(detrended['Date'][max_index_x], detrended['Temp'][max_index]),\n",
    "                xytext=(detrended['Date'][max_index_x],detrended['Temp'][max_index] ))\n",
    "    ax.axhline(y=0, color='black', linestyle='--')\n",
    "    ax.axhline(y=0.5, color='red', linestyle='--')  # Horizontal line at y=0.5\n",
    "    ax.axhline(y=-0.5, color='teal', linestyle='--')  # Horizontal line at y=-0.5 \n",
    "    plt.show()\n",
    "    plot_fourier(detrended,color)"
   ]
  },
  {
   "cell_type": "markdown",
   "metadata": {},
   "source": [
    "So I carried on doing simple Fourier analysis on the niño 3.4 data."
   ]
  },
  {
   "cell_type": "code",
   "execution_count": 11,
   "metadata": {},
   "outputs": [],
   "source": [
    "#Generate the dataframe to use with the functions above.\n",
    "nino_zone=pd.DataFrame()\n",
    "nino_zone['Temp']=sst_mean\n",
    "nino_zone['Date']=pd.to_datetime(time)"
   ]
  },
  {
   "cell_type": "code",
   "execution_count": null,
   "metadata": {},
   "outputs": [],
   "source": [
    "plot_fourier(nino_zone,'blue')"
   ]
  },
  {
   "cell_type": "markdown",
   "metadata": {},
   "source": [
    "The period plot shows that seasonality waves (1 year period waves) are by far the most impactful in the regional temperature, but some peaks can be seen after that, which correspond to el niños. This is a pattern throughout, where if you dont \"silence\" waves with periods shorter or equal than 1 year, the dominant waves have periods of 1 year. This tells us that el niño phenomena are \"in the background\", and have effects that are somewhat hidden behind seasonality and solar annual tides.\n",
    "Next is to detrend and analyze the data."
   ]
  },
  {
   "cell_type": "code",
   "execution_count": null,
   "metadata": {},
   "outputs": [],
   "source": [
    "#Put the lines in grey to better see the +/- 0.5°C.\n",
    "detrender(nino_zone, 'darkgrey')"
   ]
  },
  {
   "cell_type": "markdown",
   "metadata": {},
   "source": [
    "The anomalies graph does show some relevant data, and shows that there are possibly many el niños and la niñas hidden in the data. This is no surprise, for el niño & la niña events are commonplace, for example, this is the list of starting years of el niño(warm events) and la niña (cold events) between 1877 and 1988:\n",
    "\n",
    "\n",
    "Warm events (year 0)\n",
    "<br>\n",
    "1877 1880 1884 1888 1891 1896 1899 1902 1904 1911 1913 1918 1923 1925 1930\n",
    "<br>\n",
    "1932 1939 1951 1953 1957 1963 1965 1969 1972 1976 1982 1986\n",
    "<br>\n",
    "Cold events (year 0)\n",
    "<br>\n",
    "1886 1889 1892 1898 1903 1906 1908 1916 1920 1924 1928 1931 1938 1942 1949\n",
    "<br>\n",
    "1954 1964 1970 1973 1975 1988\n",
    "<br>\n",
    "(Kiladis & Diaz, 1989, page 1071)\n",
    "\n",
    "With this information in mind, it is not a shock that there are so many anomalies above the 0.5°C mark and below the -0.5°C threshold, as el niño and la niña are very common events. It must be mentioned again that the niño 3.4 region is only useful when detection canonical el niños and super el niños, because el niño modokis cause warming in a larger area, and isn´t so localized to the niño 3.4 zone.\n",
    "<br>\n",
    "As for the Fourier analysis, we see that the detrending reduced the influence of  long period waves, which goes to show that climate change manifests in Fourier analysis as long period waves. Yearly waves and waves with periods of 3.61 years and periods of around 7,9, and 12 years remain after detrending, which reveals that seasonality, solar anual tides, and el niños are natural phenomena that lie outside of the broader global warming trend."
   ]
  },
  {
   "cell_type": "markdown",
   "metadata": {},
   "source": [
    "### EOF ANALYSIS"
   ]
  },
  {
   "cell_type": "markdown",
   "metadata": {},
   "source": [
    "Next up is to examine the general tropical Pacific region, apply EOF and Fourier analysis on it, and this way discover the many elements that produce the sea surface temperatures in that region, let's start with an animation of temperatures over the desired section of the ocean :"
   ]
  },
  {
   "cell_type": "code",
   "execution_count": 14,
   "metadata": {},
   "outputs": [],
   "source": [
    "#Before animating, we need to subset our data.\n",
    "target_lon, target_lat = slice(120, 300), slice(-30, 30)\n",
    "\n",
    "# Select the values for the appropiate longitudes and latitudes. Also, drop altitude along the way (there is only 1).\n",
    "sst = df[\"sst\"].isel(lev=0).sel(lon=target_lon, lat=target_lat)\n",
    "\n",
    "# Pull out other useful things to carry around\n",
    "time = sst[\"time\"].values\n",
    "lon = sst[\"lon\"].sel(lon=target_lon).values\n",
    "lat = sst[\"lat\"].sel(lat=target_lat).values"
   ]
  },
  {
   "cell_type": "code",
   "execution_count": 15,
   "metadata": {},
   "outputs": [],
   "source": [
    "#I made the animation, but this code snippet takes around 5 min to generate. If you want to generate it again, here is the code, but deactivated for convenience.\n",
    "#AI provided some helped for using the matplotlib animation module.\n",
    "generate_animation = False  #To generate the animation again, change this line to generate_animation = True\n",
    "if generate_animation == True: \n",
    "    fig = plt.figure(figsize=(10, 4))\n",
    "    ax = plt.axes(projection=ccrs.PlateCarree(central_longitude=180.0))\n",
    "    plot = sst.isel(time=0).plot(ax=ax, transform=pcarree, cmap=\"RdBu_r\")\n",
    "    gl = ax.gridlines(crs=pcarree, draw_labels=True,\n",
    "                    linewidth=2, color='gray', alpha=0.5, linestyle='--')\n",
    "    gl.top_labels = False\n",
    "    gl.right_labels = False\n",
    "    ax.add_feature(cartopy.feature.LAND, zorder=10, edgecolor='k')\n",
    "\n",
    "    # Update function for the animation. Every frame, it generates a subset of the data corresponding to a particular time, plots it, and puts the corresponding time on the title.\n",
    "    def update(frame):\n",
    "        plot.set_array(sst.isel(time=frame).values)\n",
    "        time = pd.to_datetime(sst['time'].isel(time=frame).values).strftime('%Y-%m-%d')\n",
    "        ax.set_title(f\"Sea surface temperatures over the Pacific Ocean  \\n Time: {str(time)}\")\n",
    "        return plot\n",
    "\n",
    "    # Create the animation. By doing frames=len(sst['time']), it executes the update function from above for every time value present in the dataset. \n",
    "    ani = animation.FuncAnimation(fig, update, frames=len(sst['time']), interval=200, blit=False)\n",
    "    ani.save('ass4_images/pacific_temp.gif', writer='pillow')\n",
    "    plt.close(fig)"
   ]
  },
  {
   "cell_type": "code",
   "execution_count": null,
   "metadata": {},
   "outputs": [],
   "source": [
    "display(Image(filename='ass4_images/pacific_temp.gif'))"
   ]
  },
  {
   "cell_type": "markdown",
   "metadata": {},
   "source": [
    "It is mesmerizing to see the warm patch move around in the ocean. It is visible how the hotter temperature band expands and contracts periodically. EOF analysis helps by allowing us to comprehend the patterns associated with this temperature differences, and Fourier analysis gives insight into how often those factors are at play. Let's carry on with these analysis:"
   ]
  },
  {
   "cell_type": "code",
   "execution_count": null,
   "metadata": {},
   "outputs": [],
   "source": [
    "#Defined a function that includes all the eof mapping steps.\n",
    "#Most of the code was adapted from notebook 10:fun with maps.\n",
    "def eof_mapper(data):\n",
    "    time = data[\"time\"].values # Get the time , longitude and latitude for the given data.\n",
    "    lon = data[\"lon\"].sel(lon=target_lon).values\n",
    "    lat = data[\"lat\"].sel(lat=target_lat).values\n",
    "    X = np.reshape(data.values, (len(time), len(lat) * len(lon)))\n",
    "    wet_pts = np.where(~np.isnan(X[0, :]))[0] #Get the ocean places (all non-NaN instances).\n",
    "    pca = PCA(n_components=20)\n",
    "    # Pull out the PCs and EOFs.\n",
    "    PCs             = pca.fit_transform(X[:, wet_pts])  # Only do EOF analysis over the wet points.\n",
    "    EOFs_to_reshape = pca.components_\n",
    "    EOFs = np.ones((EOFs_to_reshape.shape[0], len(lat) * len(lon))) * np.nan\n",
    "    # Overwrite the places where it is actually ocean, per EOF.\n",
    "    for k in range(EOFs.shape[0]):\n",
    "        EOFs[k, wet_pts] = EOFs_to_reshape[k, :]\n",
    "    # Reshape the EOFs back to (EOF, lat, lon).\n",
    "    EOFs = np.reshape(EOFs, (EOFs.shape[0], len(lat), len(lon)))\n",
    "    fig = plt.figure(figsize=(16, 6))\n",
    "    for k in range(4): \n",
    "        # Make the plots.\n",
    "        EOF = EOFs[k, :, :]\n",
    "        limit = np.nanmax(np.nanmax(np.abs(EOF)))\n",
    "        levels = np.linspace(-limit, limit, 16)\n",
    "        ax = plt.subplot(2, 4, 2*k+1, projection=ccrs.PlateCarree(central_longitude=180.0))\n",
    "        ax.set_extent([120, -60, -30, 30], crs=ccrs.PlateCarree(central_longitude=180.0))\n",
    "        cs = ax.contourf(lon, lat, EOF, cmap=\"RdBu_r\", levels=levels, transform=pcarree)\n",
    "        gl = ax.gridlines(crs=pcarree, draw_labels=True,\n",
    "                        linewidth=2, color='gray', alpha=0.5, linestyle='--')\n",
    "        gl.top_labels = False\n",
    "        gl.right_labels = False\n",
    "        ax.add_feature(cartopy.feature.LAND, zorder = 10, edgecolor = 'k')\n",
    "        var_exp = round(pca.explained_variance_ratio_[k]*100)\n",
    "        ax.set_title(f\"$\\mathrm{{EOF}}_{k+1}$ , Variance explained : {var_exp} %\")\n",
    "        divider = make_axes_locatable(ax)  # Add a colorbar.\n",
    "        cb_ax = divider.append_axes(\"right\", size = \"2%\", pad = 0.2, axes_class=plt.Axes)\n",
    "        cax = plt.colorbar(cs, cax=cb_ax)\n",
    "        cax.set_ticks([-limit, 0, limit])\n",
    "        ax = plt.subplot(2, 4, 2*k+2)\n",
    "        ax.plot_date(time, PCs[:, k], color=\"C0\", fmt=\"\")\n",
    "        ax.set_xlabel(f\"$t$\")\n",
    "        ax.set_ylabel(f\"$\\mathrm{{PC}}_{k+1}$\")\n",
    "        plt.setp(plt.gca().xaxis.get_majorticklabels(),\n",
    "            'rotation', 90)\n",
    "    fig.tight_layout(pad=0.5)\n",
    "    return (PCs,time) #Return the PCs and the time array for further analysis."
   ]
  },
  {
   "cell_type": "markdown",
   "metadata": {},
   "source": [
    "### Raw data EOFs\n",
    "First, I will analyze the raw data, and observe the results."
   ]
  },
  {
   "cell_type": "code",
   "execution_count": null,
   "metadata": {},
   "outputs": [],
   "source": [
    "PCs,time=eof_mapper(sst)"
   ]
  },
  {
   "cell_type": "markdown",
   "metadata": {},
   "source": [
    "EOF1 looks really interesting , as it shows a clear dipole, roughly  divided by the equator, and its PC graph shows constant change. Since these EOFs were produced from raw data, and given the constant change in said EOF, we can conclude that this EOF captures a phenomen that produces frequent change and that also has very defined geographical areas. EOF2 and EOF3 kinda look like el niño and el niño modoki surfacing even through the noise and the trends. I will proceed to apply Fourier analysis on EOF1:"
   ]
  },
  {
   "cell_type": "code",
   "execution_count": 19,
   "metadata": {},
   "outputs": [],
   "source": [
    "#Generate the dataframe to use with the Fourier function.\n",
    "EOF1=pd.DataFrame()\n",
    "EOF1['Temp']=PCs[:,0] \n",
    "EOF1['Date']=time"
   ]
  },
  {
   "cell_type": "code",
   "execution_count": null,
   "metadata": {},
   "outputs": [],
   "source": [
    "plot_fourier(EOF1,'b')"
   ]
  },
  {
   "cell_type": "markdown",
   "metadata": {},
   "source": [
    "The Fourier analysis indicates that yearly waves have the strongest influence to generate the PC. With this knowledge and the geographical boundaries shown in the EOF mapping, I propose that this EOF reflects the effect of seasonality, the solar anual tide, and gyres (ocean current patterns) in the Pacific Ocean:"
   ]
  },
  {
   "cell_type": "markdown",
   "metadata": {},
   "source": [
    "<img src=\"https://oceantracks.org/sites/oceansofdata.org/files/pacific-currents_0.png\" width=\"600\"> <br>(Education Development Center, 2016)\n",
    "\n",
    "As seen above, the limit between the south Pacific gyre and the north Pacific gyre is roughly on the equator, matching the findings of the EOF. However, it is neccesary to highlight that this is only a possible explanation, and that more research would be needed to actually backup this claim.\n",
    "\n",
    "We will move on to analysis on data with a rolling average applied, and data with rolling average + detrending. These steps are important to uncover the patterns and insights that lie beneath. By performing a rolling average over a year for each data point, we \"silence\" all the factors that involve periods of a year or less, allowing patterns to surface. Detrending, on the other hand, eliminates the mentioned global warming trend, eliminating elements that distract from the underlying patterns in the data.\n"
   ]
  },
  {
   "cell_type": "code",
   "execution_count": 21,
   "metadata": {},
   "outputs": [],
   "source": [
    "#It is neccesary to get the trend to substract it from the data later on.\n",
    "sst_mean = sst.mean(dim=[\"lat\", \"lon\"], skipna=True) # Spatial mean.\n",
    "sst_rolling = sst_mean.rolling(time=12, center=True).mean(skipna=True).dropna(\"time\", how=\"all\") #Rolling average of the spatial mean\n",
    "# Slice the data to get rid of NaNs.\n",
    "target_t = slice(\"1910\", \"2010\")  # Select analysis period\n",
    "sst_mean = sst_mean.sel(time=target_t)\n",
    "sst_rolling = sst_rolling.sel(time=target_t)\n",
    "# Get linear trend\n",
    "time = sst_mean[\"time\"].values\n",
    "elapsed_time = (np.datetime64(time[-1], 'Y') - np.datetime64(time[0], 'Y')).astype(int)  # Convert to units of years.\n",
    "start_year = np.datetime64(time[0], 'Y').astype(str).astype(int)     # Offset required for datetime64 conversion.\n",
    "t_vec = np.linspace(start_year, start_year + elapsed_time, len(time))  # Time vector for polyfit.\n",
    "p = np.polyfit(t_vec, sst_mean, deg=1)\n",
    "lin_trend = np.polyval(p, t_vec)"
   ]
  },
  {
   "cell_type": "code",
   "execution_count": 22,
   "metadata": {},
   "outputs": [],
   "source": [
    "#Get a rolling average of the raw data\n",
    "sst_rolling = sst.rolling(time=12, center=True).mean(skipna=True).dropna(\"time\", how=\"all\")\n",
    "# Slice the data to get rid of NaNs.\n",
    "sst_rolling = sst_rolling.sel(time=target_t)"
   ]
  },
  {
   "cell_type": "code",
   "execution_count": 23,
   "metadata": {},
   "outputs": [],
   "source": [
    "# Substract the trend from rolling average data.\n",
    "sst_detrended= sst_rolling - lin_trend[:, np.newaxis, np.newaxis]"
   ]
  },
  {
   "cell_type": "markdown",
   "metadata": {},
   "source": [
    "Now that we have data with a rolling average applied, and data with said rolling average + detrending, it is time to apply EOF analysis to them:"
   ]
  },
  {
   "cell_type": "markdown",
   "metadata": {},
   "source": [
    "### Rolling average EOFs"
   ]
  },
  {
   "cell_type": "code",
   "execution_count": null,
   "metadata": {},
   "outputs": [],
   "source": [
    "PCs,time=eof_mapper(sst_rolling)"
   ]
  },
  {
   "cell_type": "markdown",
   "metadata": {},
   "source": [
    "The first EOF shows heat everywhere. This, coupled with the PC graph showing an upward trend, leads me to believe that the pattern shown is global warming, with a slight bit of el niño. EOF2 looks to be el niño, and EOF3 looks very similar to el niño modoki. With this mentioned, Fourier analysis will be carried out on EOF1:"
   ]
  },
  {
   "cell_type": "code",
   "execution_count": 25,
   "metadata": {},
   "outputs": [],
   "source": [
    "#Generate the dataframe to use with the Fourier function.\n",
    "EOF1=pd.DataFrame()\n",
    "EOF1['Temp']=PCs[:,0]\n",
    "EOF1['Date']=time"
   ]
  },
  {
   "cell_type": "code",
   "execution_count": null,
   "metadata": {},
   "outputs": [],
   "source": [
    "plot_fourier(EOF1,'b')"
   ]
  },
  {
   "cell_type": "markdown",
   "metadata": {},
   "source": [
    "As was mentioned in the niño 3.4 analysis, the global warming trend manifests on Fourier analysis as long period waves. Firstly, we must disregard the 100 year period wave, since our time frame (1910-2010) is too small to meaningfully pick out those waves. Apart from that, the wave with a 50 year period and the subsequent 2 or 3 peaks make it evident that climate change is having a huge, long term effect on the data, which highlights that the data must also be detrended to accurately observe el niño phenomena. Speaking of detrended data:"
   ]
  },
  {
   "cell_type": "markdown",
   "metadata": {},
   "source": [
    "### Rolling average + detrending EOFs"
   ]
  },
  {
   "cell_type": "code",
   "execution_count": null,
   "metadata": {},
   "outputs": [],
   "source": [
    "PCs,time=eof_mapper(sst_detrended)"
   ]
  },
  {
   "cell_type": "markdown",
   "metadata": {},
   "source": [
    "Now the EOFs are very clear: EOF1 corresponds to canonical el niño, with its characteristic tongue-like pattern over the eastern Pacific. Meanwhile, EOF2 shows el niño modoki, with its softer patterns over the central Pacific. Now, the last tasks are applying Fourier analysis to these 2 EOFs:"
   ]
  },
  {
   "cell_type": "code",
   "execution_count": 28,
   "metadata": {},
   "outputs": [],
   "source": [
    "#Generate the dataframe to use with the Fourier function.\n",
    "EOF1=pd.DataFrame()\n",
    "EOF1['Temp']=PCs[:,0]\n",
    "EOF1['Date']=time"
   ]
  },
  {
   "cell_type": "code",
   "execution_count": 29,
   "metadata": {},
   "outputs": [],
   "source": [
    "#Generate the dataframe to use with the Fourier function.\n",
    "EOF2=pd.DataFrame()\n",
    "EOF2['Temp']=PCs[:,1]\n",
    "EOF2['Date']=time"
   ]
  },
  {
   "cell_type": "code",
   "execution_count": null,
   "metadata": {},
   "outputs": [],
   "source": [
    "plot_fourier(EOF1,'b')"
   ]
  },
  {
   "cell_type": "markdown",
   "metadata": {},
   "source": [
    "The highest canonical el niño peaks in the period graph are the expected: 3.61 years and 5.61 years. This roughly matches up with the literature mentioned on the introduction, corresponding  to the 3-7 year ENSO band."
   ]
  },
  {
   "cell_type": "code",
   "execution_count": null,
   "metadata": {},
   "outputs": [],
   "source": [
    "plot_fourier(EOF2,'b')"
   ]
  },
  {
   "cell_type": "markdown",
   "metadata": {},
   "source": [
    "Above is the el niño modoki Fourier analysis.As mentioned before, the 100 year period is probably not useful in this instance, but the rest of the data is. The other highest peak in the period graph corresponds to 20.2 years, and some other peaks lie before or after the 10 year mark. This indicates that el niño modki operates in larger time frames than its canonical el niño counterpart."
   ]
  },
  {
   "cell_type": "markdown",
   "metadata": {},
   "source": [
    "## Conclusion\n",
    "We observed several factors that influence temperature and climate in the Pacific: marine currents, gyres, global warming, and all the different variants of el niño. Each of these factors was successfully observed and distinguished, and analysis was performed, revealing their characteristics. Some of the insights found were that. It is always important to emphasize that more research is needed to confirm or deny any findings in these topics, for such kinds of studies are essential for building up a comprehensive understanding of climate, and allow the construction of better climate models and predictions, allowing to better prepare for these phenomena."
   ]
  },
  {
   "cell_type": "markdown",
   "metadata": {},
   "source": [
    "# References\n",
    "D'Aleo, J. S., & Grube, P. G. (2002). Oryx resource guide to El Niño and La Niña.\n",
    "<br>National Oceanic and Atmospheric Administration (2010) What are El Niño and La Niña?. National Ocean Service. Retrieved from: https://oceanservice.noaa.gov/facts/ninonina.html\n",
    "<br>Education Development Center (2016) MAJOR CURRENTS. EDC Oceans of  Data Institute. Ocean Tracks. Retrieved from: https://oceantracks.org/library/the-north-pacific-ocean/major-currents\n",
    "<br>Allan,R.; Lindesay, J.;Parker, D. (1996) El Niño, Southern Oscillation & Climatic Variability.\n",
    "<br>Diaz, H. F., & Markgraf, V. (Eds.). (2000). El Niño and the Southern Oscillation: multiscale variability and global and regional impacts. Cambridge University Press.\n",
    "<br>Seow, M. X. C. (2018). A new type of tropical Pacific warming—El Niño Modoki. Physics Today, 71(12), 50-52.\n",
    "<br>Weng, H., Ashok, K., Behera, S. K., Rao, S. A., & Yamagata, T. (2007). Impacts of recent El Niño Modoki on dry/wet conditions in the Pacific rim during boreal summer. Climate dynamics, 29(2), 113-129.\n",
    "<br> Stockdale, T.;Balmaseda, M.;Ferranti, L. (2017)The 2015/2016 El Niño and beyond.European Centre for Medium-Range Weather Forecasts. Retrieved from: https://www.ecmwf.int/en/newsletter/151/meteorology/2015-2016-el-nino-and-beyond\n",
    "<br>Gilbert, M. (2024) ‘Super El Niño’ is here, but La Niña looks likely. What’s in store for the coming months. CNN weather. Retrieved from: https://edition.cnn.com/2024/02/07/weather/el-nino-super-winter-climate/index.html\n",
    "<br>Philander, S. G. (1989). El Niño, La Niña, and the southern oscillation. International geophysics series, 46, X-289.\n",
    "<br>Kiladis, G. N., & Diaz, H. F. (1989). Global climatic anomalies associated with extremes in the Southern Oscillation. Journal of Climate, 2(9), 1069-1090.\n",
    "<br>AI used: PythonAIChat, available at: https://poe.com/PythonAIChat."
   ]
  }
 ],
 "metadata": {
  "kernelspec": {
   "display_name": "vscode-notebook-env",
   "language": "python",
   "name": "vscode-notebook-env"
  },
  "language_info": {
   "codemirror_mode": {
    "name": "ipython",
    "version": 3
   },
   "file_extension": ".py",
   "mimetype": "text/x-python",
   "name": "python",
   "nbconvert_exporter": "python",
   "pygments_lexer": "ipython3",
   "version": "3.12.3"
  }
 },
 "nbformat": 4,
 "nbformat_minor": 2
}
