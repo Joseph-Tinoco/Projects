{
 "cells": [
  {
   "cell_type": "code",
   "execution_count": 30,
   "metadata": {},
   "outputs": [],
   "source": [
    "#Prueba de anova automatizada\n",
    "#Importación de librerías\n",
    "import scipy.stats\n",
    "import pandas as pd\n",
    "import numpy as np\n",
    "from math import log10, floor\n",
    "import os"
   ]
  },
  {
   "cell_type": "code",
   "execution_count": 31,
   "metadata": {},
   "outputs": [],
   "source": [
    "def round_to_3(x):\n",
    "    a=x-int(x)\n",
    "    if a==0:\n",
    "       c=1\n",
    "    else:\n",
    "        b=-int(floor(log10(abs(a))))\n",
    "        c=2+b\n",
    "    return (c) "
   ]
  },
  {
   "cell_type": "code",
   "execution_count": 32,
   "metadata": {},
   "outputs": [],
   "source": [
    "def Tukey (a1,a2,a3,b,c):\n",
    "    # a1 será el array de valores medios de cada tratamiento\n",
    "    #a2 será el  MSE\n",
    "    #a3 es n\n",
    "    # b será el número de tratamientos\n",
    "    # c serán los grados de libertad de T\n",
    "    #Función sólo funciona con alpha=0.05\n",
    "    import pandas as pd\n",
    "    import numpy as np\n",
    "    from math import sqrt\n",
    "    qs=pd.read_csv(r\"data/q_Tukey.csv\")\n",
    "    arr=np.array(qs)\n",
    "    d=b-2; e=c-2\n",
    "    q_value=arr[e,d]\n",
    "    HSD=q_value*sqrt((a2)/a3)\n",
    "    x=round(HSD,4)\n",
    "    print(\"\\nTukey test\")\n",
    "    print(f\"\\n{'HSD:  '}{x}\")\n",
    "    print(f\"{'Conjuntos a comparar':30s}{'differencia':15s}{'DS'}\")\n",
    "    for i in range (0,len(a1)-1):\n",
    "        for j in range (i+1,len(a1)):\n",
    "            diff=round(abs(a1[i]-a1[j]),3)\n",
    "            A=i\n",
    "            B=j\n",
    "            DS=\"\"\n",
    "            if HSD>diff:\n",
    "                DS=\"NO\"\n",
    "            else:\n",
    "                DS=\"SI\"\n",
    "            print(f\"\\n{'':6s}{A}{' - '}{B}{'':25s}{diff}{'':8s}{DS}\")"
   ]
  },
  {
   "cell_type": "code",
   "execution_count": 33,
   "metadata": {},
   "outputs": [
    {
     "name": "stdout",
     "output_type": "stream",
     "text": [
      "Test ANOVA\n",
      "   Material 1   Material 2   Material 3  Material 4\n",
      "0        132.5        117.1       154.2       105.9\n",
      "1        146.7        130.5       143.6       126.4\n",
      "2        140.4        120.1       144.2       112.6\n",
      "número de tratamientos: 4\n",
      "número de réplicas: 3\n"
     ]
    }
   ],
   "source": [
    "print(\"Test ANOVA\")\n",
    "##Importación de los datos desde archivo .csv (cambiar nombre de archivo conforme sea necesario)\n",
    "datos=pd.read_csv(\"data/example_data_A.csv\")\n",
    "print(datos)\n",
    "arr=np.array(datos)\n",
    "## obtención de valores de N, a y n\n",
    "[n,a]=arr.shape\n",
    "N=n*a\n",
    "print('número de tratamientos: '+str(a))\n",
    "print('número de réplicas: '+str(n))"
   ]
  },
  {
   "cell_type": "code",
   "execution_count": 34,
   "metadata": {},
   "outputs": [
    {
     "name": "stdout",
     "output_type": "stream",
     "text": [
      "\n",
      "Varianza       SS             df             MS             Fo\n",
      "\n",
      "t              2020.35          3            673.45         11.0\n",
      "\n",
      "E              489.587          8            61.198\n",
      "\n",
      "T              2509.937          11\n",
      "\n",
      "F crítica:  4.07\n",
      "\n",
      "Se rechaza Ho, Fo>F\n",
      "\n",
      "Tukey test\n",
      "\n",
      "HSD:  20.46\n",
      "Conjuntos a comparar          differencia    DS\n",
      "\n",
      "      0 - 1                         17.3        NO\n",
      "\n",
      "      0 - 2                         7.467        NO\n",
      "\n",
      "      0 - 3                         24.9        SI\n",
      "\n",
      "      1 - 2                         24.767        SI\n",
      "\n",
      "      1 - 3                         7.6        NO\n",
      "\n",
      "      2 - 3                         32.367        SI\n"
     ]
    }
   ],
   "source": [
    "##Suma de yi\n",
    "Syi=np.array([])\n",
    "Syip=np.array([])\n",
    "for i in range(0,a):\n",
    "    yi=0\n",
    "    for j in range (0,n):\n",
    "        yi=yi+arr[j,i]\n",
    "    Syi=np.append(Syi,yi)\n",
    "    yip=yi/n\n",
    "    Syip=np.append(Syip,yip)\n",
    "##Obtención de Y\n",
    "SY=0\n",
    "for i in range(0,a):\n",
    "    for j in range (0,n):\n",
    "        SY=SY+arr[j,i]\n",
    "##Cuadrados\n",
    "Syi2=0\n",
    "for i in range(0,a):\n",
    "    Syi2=Syi2+(Syi[i])**2\n",
    "SY2=SY**2 \n",
    "Syij2=0\n",
    "for i in range(0,a):\n",
    "    for j in range (0,n):\n",
    "        Syij2=Syij2+(arr[j,i])**2\n",
    "##Sumatoria de cuadrados y grados de libertad\n",
    "SSt=(Syi2/n)-(SY2/N)\n",
    "SST=(Syij2)-(SY2/N)\n",
    "SSE=SST-SSt\n",
    "dft=a-1\n",
    "dfT=N-1\n",
    "dfE=N-a\n",
    "MSt=SSt/dft\n",
    "MSE=SSE/dfE\n",
    "## ¡¡Fisher!!\n",
    "Fo=MSt/MSE\n",
    "## Redondeo \n",
    "Fo=round(Fo,2)\n",
    "SSt=round(SSt,round_to_3(SSt))\n",
    "SST=round(SST,round_to_3(SST))\n",
    "SSE=round(SSE,round_to_3(SSE))\n",
    "MSt=round(MSt,round_to_3(MSt))\n",
    "MSE=round(MSE,round_to_3(MSE))\n",
    "print(f\"\\n{'Varianza':15s}{'SS':15s}{'df':15s}{'MS':15s}Fo\")\n",
    "print(f\"\\n{'t':15s}{SSt}{'':10s}{dft}{'':12s}{MSt}{'':9s}{Fo}\")\n",
    "print(f\"\\n{'E':15s}{SSE}{'':10s}{dfE}{'':12s}{MSE}\")\n",
    "print(f\"\\n{'T':15s}{SST}{'':10s}{dfT}\")\n",
    "F=scipy.stats.f.ppf(.95, dft, dfE)\n",
    "F_=round(F,2)\n",
    "print(f\"\\n{'F crítica:  '}{F_}\")\n",
    "if Fo>F:\n",
    "    print(\"\\nSe rechaza Ho, Fo>F\")\n",
    "    Tukey(Syip,MSE,n,a,dfE)\n",
    "else:\n",
    "    print(\"\\nNo se rechaza Ho, F>Fo\")"
   ]
  }
 ],
 "metadata": {
  "kernelspec": {
   "display_name": "vscode-notebook-env",
   "language": "python",
   "name": "vscode-notebook-env"
  },
  "language_info": {
   "codemirror_mode": {
    "name": "ipython",
    "version": 3
   },
   "file_extension": ".py",
   "mimetype": "text/x-python",
   "name": "python",
   "nbconvert_exporter": "python",
   "pygments_lexer": "ipython3",
   "version": "3.12.3"
  }
 },
 "nbformat": 4,
 "nbformat_minor": 2
}
