{
 "cells": [
  {
   "cell_type": "markdown",
   "metadata": {},
   "source": [
    "\n",
    "  <font size= 15>\n",
    " <font color='red'>\n",
    "Leslie Population dynamics\n",
    " </font> \n",
    "  </font> "
   ]
  },
  {
   "cell_type": "markdown",
   "metadata": {},
   "source": [
    "### José Ángel Tinoco Carrillo "
   ]
  },
  {
   "cell_type": "markdown",
   "metadata": {},
   "source": [
    "## **What is the Leslie model for population dynamics?** \n",
    "\n",
    "In short, it is a set of mathematical formulas intended to show the progress of the population of a single species as it goes through its different stages of life;\n",
    "for example, to model the growth of a group of tiny kitties...\n",
    "\n",
    "<img src=\"https://storage.needpix.com/rsynced_images/kittens-1075978_1280.jpg\" width=\"400\">\n",
    "\n",
    "To enormous, city-destroying beasts!\n",
    "\n",
    "<img src=\"https://w0.peakpx.com/wallpaper/310/724/HD-wallpaper-d-airplane-kitten-city-fantasy-funny-cat-giant-fire.jpg\" width=\"400\">\n"
   ]
  },
  {
   "cell_type": "markdown",
   "metadata": {},
   "source": [
    "\n",
    "\" *If we are given the age distribution of a population on a certain date, we may require to\n",
    "know the age distribution of the survivors and descendants of the original population at\n",
    "successive intervals of time, supposing that these individuals are subject to some given age-\n",
    "specific rates of fertility and mortality.* \"  <br>(P.H. Leslie, 1945)\n",
    "\n",
    "Thats the question Leslie himself was looking to answer when he developed Leslie population dynamics models. These models work by dividing the life of an organism into arbitrary age groups, for example \"Year 1, Year 2, Year 3, Year 4...\", or  \"Toddler, Child, Adolescent, Adult, Elderly\", etc.\n",
    "By dividing life into these age groups, we can monitor the development of the population by setting up some key parameters for each group, which are expressed as chances:\n",
    "-  Survival rate (how many individuals survive and advance to a later age group/make it to next \"cycle\" alive?)\n",
    "-  Reproduction rate (how much do individuals reproduce in each stage of their lives?)\n",
    "\n",
    "Both parameters boil down to the essential question\n",
    "\n",
    "What are the chances for an age group of successfully moving into another?\n",
    "\n",
    "And with this there are some conclusions we can draw to make the model easier to understand:\n",
    "- Chance of baby individuals reproducing is always 0%, as babies don´t have offspring. \n",
    "- Chances of adult individuals transitioning to younger groups are null, as de-aging is not a thing in most species, but groups may have chances to \"turn\" into the youngest group, as that is the way the model expresses reproductive rates.\n",
    "- Chances don´t have to add up to 1, if they are < 1, it means a part of that age group died, but chances can add up to more than one, for reproductive rates may bump the cumulative chances over 100%, as new individuals pop up."
   ]
  },
  {
   "cell_type": "markdown",
   "metadata": {},
   "source": [
    "These parameters are expressed in a matrix, a ***Leslie*** matrix:\n",
    "\n",
    "<img src=\"images/matrix_functioning.png\" width=\"800\">\n"
   ]
  },
  {
   "cell_type": "markdown",
   "metadata": {},
   "source": [
    "\n",
    "<font size= 2>\n",
    "(Kajin et. al, 2012)\n",
    "  </font> "
   ]
  },
  {
   "cell_type": "markdown",
   "metadata": {},
   "source": [
    "In the image above we see a matrix and two arrays:\n",
    "\n",
    "- The leslie matrix, which houses *F* chances, which represent fecundity rates, and *P* chances, which represent the probabilty of each age group of transitioning into another.\n",
    "- The t array has the population of each age group in time *t*, i.e. the current population of each age group.\n",
    "- The t+1 array, which has the population of each group after some specified time.\n",
    "\n",
    "Thus the model works by multiplying the Leslie matrix by the t array, resulting in the t+1 array. After that, the t+1 array becomes the t array, and the process repeats, \n",
    "**and each cycle shows how the populations evolve over time!**"
   ]
  },
  {
   "cell_type": "markdown",
   "metadata": {},
   "source": [
    "## **Limitations of Leslie population models** \n",
    "\n",
    "\" *It is important to remember that MPMs are approximations, both because they still abstract away much biological detail and because demographic measurements are imprecise* \"  <br>(Kendall et. al., 2019)\n",
    "\n",
    "Leslie population models are nice and all; they allow us to have a scientific and numeric based approach to population dynamics,/ but the question remains, how accurate/reliable are they?<br>Lets imagine for a second we are tasked with examining a duck population, and we resolve to analyze their population using a Leslie population model.\n",
    "\n",
    "<img style=\"float: left;padding: 10px;\" src=\"https://miro.medium.com/v2/resize:fit:640/format:webp/1*m5HORF0koybAypPeBRbMjQ.jpeg\" width=\"500\"> <br> Then lets imagine these ducks are running extinct , but for some reason, like a mistake in analyzing their numbers in the wild, overly generous chances being placed in the leslie matrix, or some other mistake when making the model, resulting in the model showing stable populations. In this hypothetical, the model would arrive to a misleading conclusion, no special measures would be taken to protect the ducks, and those guys would go extinct.<br> \n",
    "Moreover, models like this pre suppose stable and plentiful resources, conditions which many times are not met in real life, which may give inaccurate results, not representing real life in an adequate way.<br>\n",
    "So it is important to remember that these models are mathematical daydreams, and while they help us understand things, they are not **the** things themselves, and it is important to study real stuff to confirm or deny the findings of mathematical models. <br>\n",
    "<BR><BR><BR><BR><BR><BR><BR>\n",
    "Or, in internet lingo, it is nice to be inside in your computer all day, but...\n",
    "\n",
    "<img src=\"https://i.ytimg.com/vi/gT4RDSGqdYU/maxresdefault.jpg\" width=\"300\">\n",
    "\n"
   ]
  },
  {
   "cell_type": "markdown",
   "metadata": {},
   "source": [
    "## **Leslie population models test drive**\n",
    "\n",
    "Now that we know our vehicle, its time for a test drive, will our shiny new car be a broken down old model, or will it drive fast and swiftly like a F1 car? <br>\n",
    "For our first test, I´m bringing an old favorite of mine: <br>\n",
    "DINOSAURS!\n",
    "\n",
    "<img style=\"float: left;padding: 10px;\" src=\"https://www.thoughtco.com/thmb/GIEDp80BQzKLa_vjCdZeVYaMxuI=/1500x0/filters:no_upscale():max_bytes(150000):strip_icc()/GettyImages-680791823-59af09edaad52b0010486221.jpg\" width=\"600\">\n",
    "Of course, there is no data to go off from, as dinosaurs are long dead, but we can build a hypothetical Leslie matrix using literature, more specifically, info on extant (living) animal species.\n",
    "<br>\n",
    "<img src=\"images/dino_comparison.png\" width=\"800\">\n",
    "(Griebeler & Werner, 2011) <br>\n",
    "As seen from the picture above, there have been some comparisons in literature between sauropod dinosaurs and extant taxa, so it is a question of finding Leslie matrixes from these living animals, and changing them based on these comparisons. "
   ]
  },
  {
   "cell_type": "markdown",
   "metadata": {},
   "source": [
    "So, for reference, I´ll start off with american crocodile (*Crocodylus acutus*) data...\n",
    "\n",
    "<img src=\"images/crocodiles.png\" width=\"800\"> \n",
    "<font size= 2>\n",
    "Leslie Matrix from COMADRE database.\n",
    "  </font> "
   ]
  },
  {
   "cell_type": "markdown",
   "metadata": {},
   "source": [
    "And tweak the data to design a Leslie matrix for our long-necked, long-dead friends."
   ]
  },
  {
   "cell_type": "code",
   "execution_count": 1,
   "metadata": {},
   "outputs": [],
   "source": [
    "#Import libraries\n",
    "import numpy as np\n",
    "import matplotlib.pyplot as plt\n",
    "import pandas as pd\n",
    "import seaborn as sns\n",
    "sns.set_style('whitegrid')\n",
    "import plotly.express as px\n",
    "import time\n",
    "from plotly.subplots import make_subplots\n",
    "import plotly.graph_objects as go\n",
    "from IPython.display import clear_output"
   ]
  },
  {
   "cell_type": "code",
   "execution_count": 2,
   "metadata": {},
   "outputs": [
    {
     "name": "stdout",
     "output_type": "stream",
     "text": [
      "[[0.    0.    2.    2.    5.   ]\n",
      " [0.204 0.394 0.    0.    0.   ]\n",
      " [0.    0.256 0.738 0.    0.   ]\n",
      " [0.    0.    0.049 0.474 0.   ]\n",
      " [0.    0.    0.    0.426 0.85 ]]\n"
     ]
    }
   ],
   "source": [
    "#Set up the leslie matrix , I made some changes taking into account the literature above.\n",
    "A = np.asarray([[0.0, 0.0, 2,2,5], [0.204, 0.394, 0.0,0.0,0.0], [0.0, 0.256, 0.738,0.0,0.0], [0.0, 0.0, 0.049,0.474,0.0], [0.0, 0.0, 0.0,0.426,0.85]])\n",
    "print(A)"
   ]
  },
  {
   "cell_type": "code",
   "execution_count": 3,
   "metadata": {},
   "outputs": [
    {
     "name": "stdout",
     "output_type": "stream",
     "text": [
      "   Time (Years)  Hatchlings  Juveniles  Sub-adults  Young adults  \\\n",
      "0           0.0        25.0       25.0        25.0          25.0   \n",
      "1           1.0       225.0       15.0        25.0          13.0   \n",
      "2           2.0       235.0       52.0        22.0           7.0   \n",
      "3           3.0       223.0       68.0        30.0           5.0   \n",
      "4           4.0       223.0       72.0        39.0           4.0   \n",
      "5           5.0       227.0       74.0        48.0           4.0   \n",
      "\n",
      "   Mature adults  Total  \n",
      "0           25.0  125.0  \n",
      "1           32.0  310.0  \n",
      "2           33.0  349.0  \n",
      "3           31.0  357.0  \n",
      "4           28.0  366.0  \n",
      "5           26.0  379.0  \n"
     ]
    }
   ],
   "source": [
    "#Set up initial population values, we will suppose we start with 25 of each\n",
    "b0 = np.array([0, 25.0, 25.0, 25.0, 25.0, 25.0])\n",
    "#Set up a dataframe to store population values\n",
    "columns = ['Time (Years)', 'Hatchlings', 'Juveniles', 'Sub-adults', 'Young adults', 'Mature adults']\n",
    "b0_reshaped = b0.reshape(1,6)  # Reshape b0 to have shape (1, 6)\n",
    "Pop_table = pd.DataFrame(b0_reshaped, columns=columns)\n",
    "#For loop that makes concatenates the results of each iteration into a single dataframe!\n",
    "#I ran my simulation for an arbitrary duration of 5 years\n",
    "#AI helped a little bit setup the loop and integrating the new rows into the dataframe\n",
    "for year in range (1,6):\n",
    "    b0=b0[1:]\n",
    "    b1= A@b0\n",
    "    b0 = np.insert(b1, 0, year, axis=0)\n",
    "    b0_reshaped = b0.reshape(1,6)\n",
    "    Pop_table = pd.concat([Pop_table, pd.DataFrame((np.round(b0_reshaped).astype(int)), columns=columns)], ignore_index=True)\n",
    "Pop_table['Total'] = Pop_table[['Hatchlings', 'Juveniles', 'Sub-adults', 'Young adults', 'Mature adults']].sum(axis=1)\n",
    "#Tidy data is best data\n",
    "tidy_table = pd.melt(Pop_table, id_vars='Time (Years)', value_vars=['Hatchlings', 'Juveniles', 'Sub-adults', 'Young adults', 'Mature adults', 'Total'], var_name='Stage', value_name='Population')\n",
    "print(Pop_table)"
   ]
  },
  {
   "cell_type": "code",
   "execution_count": 4,
   "metadata": {},
   "outputs": [
    {
     "data": {
      "text/plain": [
       "Text(0.5, 1.0, 'Sauropod populations over time')"
      ]
     },
     "execution_count": 4,
     "metadata": {},
     "output_type": "execute_result"
    },
    {
     "name": "stderr",
     "output_type": "stream",
     "text": [
      "findfont: Font family 'Verdana' not found.\n",
      "findfont: Font family 'Verdana' not found.\n",
      "findfont: Font family 'Verdana' not found.\n",
      "findfont: Font family 'Verdana' not found.\n",
      "findfont: Font family 'Verdana' not found.\n",
      "findfont: Font family 'Verdana' not found.\n"
     ]
    },
    {
     "data": {
      "image/png": "[encoded data removed]",
      "text/plain": [
       "<Figure size 600x300 with 1 Axes>"
      ]
     },
     "metadata": {},
     "output_type": "display_data"
    }
   ],
   "source": [
    "#Plotting population of each group in a single lineplot\n",
    "fig = plt.figure(figsize=(6, 3))\n",
    "ax = plt.axes()\n",
    "stage_list = tidy_table.groupby('Stage')['Population'].last().sort_values().index\n",
    "palette = sns.color_palette('bright', len(stage_list))\n",
    "i=0\n",
    "for stages in stage_list:\n",
    "    sns.lineplot(ax=ax,\n",
    "             data=tidy_table.loc[tidy_table['Stage']==stages],\n",
    "             y='Population',\n",
    "             x='Time (Years)',\n",
    "             hue='Stage',\n",
    "             marker='o', \n",
    "             palette=[palette[i]])\n",
    "    i=i+1\n",
    "ax.legend(loc='center left', bbox_to_anchor=(1, 0.5))\n",
    "ax.set_ylabel('Individuals')\n",
    "ax.set_title('Sauropod populations over time', weight='bold',fontname='Verdana', size=20)"
   ]
  },
  {
   "cell_type": "code",
   "execution_count": 5,
   "metadata": {},
   "outputs": [
    {
     "name": "stderr",
     "output_type": "stream",
     "text": [
      "findfont: Font family 'Verdana' not found.\n",
      "findfont: Font family 'Verdana' not found.\n",
      "findfont: Font family 'Verdana' not found.\n",
      "findfont: Font family 'Verdana' not found.\n",
      "findfont: Font family 'Verdana' not found.\n"
     ]
    },
    {
     "data": {
      "image/png": "[encoded data removed]",
      "text/plain": [
       "<Figure size 600x300 with 1 Axes>"
      ]
     },
     "metadata": {},
     "output_type": "display_data"
    }
   ],
   "source": [
    "#Now for an animated population pyramid in each year\n",
    "tidy_table=tidy_table.loc[tidy_table['Stage']!=\"Total\"]\n",
    "stage_order = tidy_table['Stage'].unique()[::-1]\n",
    "for year in Pop_table['Time (Years)']:\n",
    "    fig = plt.figure(figsize=(6, 3))\n",
    "    ax = plt.axes()\n",
    "    sns.barplot(\n",
    "        ax=ax,\n",
    "        data=tidy_table.loc[tidy_table['Time (Years)'] == year],\n",
    "        x='Population',\n",
    "        y='Stage',\n",
    "        hue='Stage',\n",
    "        palette='rocket',\n",
    "        alpha=0.8,\n",
    "        orient='horizontal',\n",
    "        width=1,\n",
    "        order=list(stage_order) \n",
    "    )\n",
    "    ax.set_title('Sauropod population pyramid, YEAR : ' + str(int(year)), weight='bold', fontname='Verdana', size=10)\n",
    "    ax.set_xlim([0, max(tidy_table['Population'])]) \n",
    "    time.sleep(3)\n",
    "    clear_output(wait=True)      #Delete/inactivate this line in order to see all pop pyramyds from all years.\n",
    "    plt.show()"
   ]
  },
  {
   "cell_type": "markdown",
   "metadata": {},
   "source": [
    "As can be seen in the scenario proposed, the population growth shows a pattern often hypothesized for these animals: there are lots of hatchlings, but since young sauropod dinosaurs had no defense of their own, many of them perish in the lower stages of their lives. However, once those animals reached maturity and the latter stages of their lives, their massive size alone guaranteed that adult individuals would live long lives."
   ]
  },
  {
   "cell_type": "markdown",
   "metadata": {},
   "source": [
    "Now I went for a real challenge, I employed the asian elephant matrix from the COMADRE database, which has a colossal 26 by 26 size!\n",
    "\n",
    "I included the matrix in the zip file within the images folder, and included the origin in references."
   ]
  },
  {
   "cell_type": "code",
   "execution_count": 6,
   "metadata": {},
   "outputs": [],
   "source": [
    "#Set up the leslie matrix, lifted from the one stored in the csv file.\n",
    "matrix=pd.read_csv('images/matrix.csv')\n",
    "matrix=matrix[3:29]\n",
    "matrix = matrix.drop(matrix.columns[26:].tolist(), axis=1)\n",
    "matrix = matrix.astype(float)\n",
    "matrix=np.asarray(matrix)"
   ]
  },
  {
   "cell_type": "code",
   "execution_count": 7,
   "metadata": {},
   "outputs": [
    {
     "name": "stdout",
     "output_type": "stream",
     "text": [
      "[  0.   0.   0.   0.   0.   0.   0.   0.   0. 100. 100.   0.   0.   0.\n",
      "   0.   0.   0.   0.   0.   0.   0.   0. 100. 100.   0.   0.   0.]\n"
     ]
    }
   ],
   "source": [
    "#I proposed an initial population of middle aged adult elephants in reproductive age\n",
    "b0 = np.zeros(27)\n",
    "b0[9]=100.0\n",
    "b0[10]=100.0\n",
    "b0[22]=100.0\n",
    "b0[23]=100.0\n",
    "print(b0)"
   ]
  },
  {
   "cell_type": "code",
   "execution_count": 8,
   "metadata": {},
   "outputs": [
    {
     "name": "stdout",
     "output_type": "stream",
     "text": [
      "    Time (Years)  Female 0-4.9  Female 5-9.9  Female 10-14.9  Female 15-19.9  \\\n",
      "0            0.0           0.0           0.0             0.0             0.0   \n",
      "1            5.0         100.0           0.0             0.0             0.0   \n",
      "2           10.0          95.0          76.0             0.0             0.0   \n",
      "3           15.0          73.0          72.0            71.0             0.0   \n",
      "4           20.0          27.0          56.0            67.0            66.0   \n",
      "5           25.0          33.0          20.0            52.0            62.0   \n",
      "6           30.0          59.0          25.0            19.0            48.0   \n",
      "7           35.0          78.0          45.0            23.0            18.0   \n",
      "8           40.0          80.0          59.0            42.0            22.0   \n",
      "9           45.0          86.0          61.0            55.0            39.0   \n",
      "10          50.0         101.0          66.0            57.0            51.0   \n",
      "11          55.0         119.0          77.0            61.0            53.0   \n",
      "12          60.0         138.0          91.0            71.0            57.0   \n",
      "13          65.0         149.0         105.0            84.0            66.0   \n",
      "14          70.0         154.0         113.0            97.0            79.0   \n",
      "15          75.0         166.0         117.0           106.0            90.0   \n",
      "16          80.0         189.0         126.0           109.0            98.0   \n",
      "17          85.0         219.0         143.0           117.0           101.0   \n",
      "18          90.0         245.0         166.0           133.0           109.0   \n",
      "19          95.0         270.0         187.0           154.0           124.0   \n",
      "20         100.0         299.0         205.0           173.0           144.0   \n",
      "\n",
      "    Female 20-24.9  Female 25-29.9  Female 30-34.9  Female 35-39.9  \\\n",
      "0              0.0             0.0             0.0             0.0   \n",
      "1              0.0             0.0             0.0             0.0   \n",
      "2              0.0             0.0             0.0             0.0   \n",
      "3              0.0             0.0             0.0             0.0   \n",
      "4              0.0             0.0             0.0             0.0   \n",
      "5             57.0             0.0             0.0             0.0   \n",
      "6             54.0            54.0             0.0             0.0   \n",
      "7             41.0            51.0            51.0             0.0   \n",
      "8             15.0            39.0            48.0            48.0   \n",
      "9             19.0            14.0            37.0            46.0   \n",
      "10            34.0            18.0            14.0            35.0   \n",
      "11            44.0            32.0            17.0            13.0   \n",
      "12            45.0            42.0            30.0            16.0   \n",
      "13            49.0            43.0            40.0            29.0   \n",
      "14            57.0            46.0            41.0            38.0   \n",
      "15            68.0            54.0            44.0            39.0   \n",
      "16            78.0            64.0            51.0            42.0   \n",
      "17            84.0            74.0            61.0            49.0   \n",
      "18            87.0            80.0            70.0            58.0   \n",
      "19            94.0            82.0            76.0            67.0   \n",
      "20           107.0            89.0            78.0            72.0   \n",
      "\n",
      "    Female 40-44.9  ...  Male 20-24.9  Male 25-29.9  Male 30-34.9  \\\n",
      "0            100.0  ...           0.0           0.0           0.0   \n",
      "1              0.0  ...           0.0           0.0           0.0   \n",
      "2              0.0  ...           0.0           0.0           0.0   \n",
      "3              0.0  ...           0.0           0.0           0.0   \n",
      "4              0.0  ...           0.0           0.0           0.0   \n",
      "5              0.0  ...          31.0           0.0           0.0   \n",
      "6              0.0  ...          29.0          25.0           0.0   \n",
      "7              0.0  ...          23.0          24.0          21.0   \n",
      "8              0.0  ...           8.0          19.0          20.0   \n",
      "9             46.0  ...          10.0           7.0          15.0   \n",
      "10            44.0  ...          18.0           8.0           6.0   \n",
      "11            34.0  ...          24.0          15.0           7.0   \n",
      "12            12.0  ...          25.0          20.0          12.0   \n",
      "13            15.0  ...          27.0          20.0          16.0   \n",
      "14            27.0  ...          31.0          22.0          17.0   \n",
      "15            36.0  ...          37.0          26.0          18.0   \n",
      "16            37.0  ...          43.0          30.0          21.0   \n",
      "17            40.0  ...          46.0          35.0          25.0   \n",
      "18            46.0  ...          48.0          38.0          29.0   \n",
      "19            55.0  ...          51.0          39.0          31.0   \n",
      "20            63.0  ...          58.0          42.0          32.0   \n",
      "\n",
      "    Male 35-39.9  Male 40-44.9  Male 45-49.9  Male 50-54.9  Male 55-59.9  \\\n",
      "0            0.0         100.0         100.0           0.0           0.0   \n",
      "1            0.0           0.0          82.0          82.0           0.0   \n",
      "2            0.0           0.0           0.0          67.0          48.0   \n",
      "3            0.0           0.0           0.0           0.0          40.0   \n",
      "4            0.0           0.0           0.0           0.0           0.0   \n",
      "5            0.0           0.0           0.0           0.0           0.0   \n",
      "6            0.0           0.0           0.0           0.0           0.0   \n",
      "7            0.0           0.0           0.0           0.0           0.0   \n",
      "8           17.0           0.0           0.0           0.0           0.0   \n",
      "9           16.0          14.0           0.0           0.0           0.0   \n",
      "10          12.0          13.0          11.0           0.0           0.0   \n",
      "11           5.0          10.0          11.0           9.0           0.0   \n",
      "12           6.0           4.0           8.0           9.0           6.0   \n",
      "13          10.0           5.0           3.0           7.0           5.0   \n",
      "14          13.0           8.0           4.0           3.0           4.0   \n",
      "15          14.0          11.0           7.0           3.0           1.0   \n",
      "16          15.0          11.0           9.0           6.0           2.0   \n",
      "17          17.0          12.0           9.0           7.0           3.0   \n",
      "18          20.0          14.0          10.0           8.0           4.0   \n",
      "19          24.0          17.0          12.0           8.0           4.0   \n",
      "20          26.0          19.0          14.0           9.0           5.0   \n",
      "\n",
      "    Male 60+   Total  \n",
      "0        0.0   400.0  \n",
      "1        0.0   554.0  \n",
      "2        0.0   591.0  \n",
      "3       29.0   551.0  \n",
      "4       23.0   426.0  \n",
      "5        0.0   375.0  \n",
      "6        0.0   433.0  \n",
      "7        0.0   516.0  \n",
      "8        0.0   586.0  \n",
      "9        0.0   660.0  \n",
      "10       0.0   754.0  \n",
      "11       0.0   868.0  \n",
      "12       0.0   981.0  \n",
      "13       3.0  1085.0  \n",
      "14       3.0  1172.0  \n",
      "15       2.0  1282.0  \n",
      "16       1.0  1425.0  \n",
      "17       1.0  1604.0  \n",
      "18       2.0  1801.0  \n",
      "19       3.0  2008.0  \n",
      "20       3.0  2233.0  \n",
      "\n",
      "[21 rows x 28 columns]\n"
     ]
    }
   ],
   "source": [
    "columns = ['Time (Years)','Female 0-4.9', 'Female 5-9.9', 'Female 10-14.9', 'Female 15-19.9', 'Female 20-24.9',\n",
    "                'Female 25-29.9', 'Female 30-34.9 yrs: active', 'Female 35-39.9 yrs: active',\n",
    "                'Female 40-44.9 yrs: active', 'Female 45-49.9 yrs: active', 'Female 50-54.9 yrs: active',\n",
    "                'Female 55-59.9 yrs: active', 'Female 60+ yrs: active', 'Male 0-4.9 yrs: active',\n",
    "                'Male 5-9.9 yrs: active', 'Male 10-14.9 yrs: active', 'Male 15-19.9 yrs: active',\n",
    "                'Male 20-24.9 yrs: active', 'Male 25-29.9 yrs: active', 'Male 30-34.9 yrs: active',\n",
    "                'Male 35-39.9 yrs: active', 'Male 40-44.9 yrs: active', 'Male 45-49.9 yrs: active',\n",
    "                'Male 50-54.9 yrs: active', 'Male 55-59.9 yrs: active', 'Male 60+ yrs: active']\n",
    "columns = [name.replace(' yrs: active', '') for name in columns]\n",
    "b0_reshaped = b0.reshape(1,27)\n",
    "Pop_table_elephants = pd.DataFrame(b0_reshaped, columns=columns)\n",
    "for cycle in range (1,21):\n",
    "    b0=b0[1:]\n",
    "    b1 = matrix @ b0\n",
    "    b0 = np.insert(b1.astype(float), 0, cycle*5.0, axis=0)\n",
    "    b0_reshaped = b0.reshape(1,27)\n",
    "    Pop_table_elephants = pd.concat([Pop_table_elephants, pd.DataFrame((np.round(b0_reshaped).astype(int)), columns=columns)], ignore_index=True)\n",
    "Pop_table_elephants['Total'] = Pop_table_elephants.iloc[:, 1:].sum(axis=1)\n",
    "print(Pop_table_elephants)"
   ]
  },
  {
   "cell_type": "code",
   "execution_count": 9,
   "metadata": {},
   "outputs": [],
   "source": [
    "#More tidy tables\n",
    "male_table = Pop_table_elephants['Time (Years)']\n",
    "male_table = pd.concat([male_table, Pop_table_elephants.iloc[:, 14:27]], axis=1)\n",
    "male_table['Total_males'] = male_table.iloc[:, 1:].sum(axis=1)\n",
    "columns_m=male_table.columns\n",
    "males_tidy=pd.melt(male_table, id_vars='Time (Years)', value_vars=columns_m[1:-1], var_name='Stage', value_name='Population')"
   ]
  },
  {
   "cell_type": "code",
   "execution_count": 10,
   "metadata": {},
   "outputs": [],
   "source": [
    "female_table = Pop_table_elephants.iloc[:, 0:14]\n",
    "female_table['Total_females'] = female_table.iloc[:, 1:].sum(axis=1)\n",
    "female_table\n",
    "columns_f=female_table.columns\n",
    "females_tidy=pd.melt(female_table, id_vars='Time (Years)', value_vars=columns_f[1:-1], var_name='Stage', value_name='Population')"
   ]
  },
  {
   "cell_type": "code",
   "execution_count": 11,
   "metadata": {},
   "outputs": [],
   "source": [
    "#Tables to see how the proportions of each sex changed over time\n",
    "sorted_table_males = males_tidy.groupby('Time (Years)').sum().reset_index()\n",
    "sorted_table_females= females_tidy.groupby('Time (Years)').sum().reset_index()\n",
    "sorted_table_males['Pop_percent']=sorted_table_males['Population']/Pop_table_elephants['Total']\n",
    "sorted_table_females['Pop_percent']=sorted_table_females['Population']/Pop_table_elephants['Total']"
   ]
  },
  {
   "cell_type": "code",
   "execution_count": 12,
   "metadata": {},
   "outputs": [
    {
     "data": {
      "image/png": "[encoded data removed]",
      "text/plain": [
       "<Figure size 1000x300 with 2 Axes>"
      ]
     },
     "metadata": {},
     "output_type": "display_data"
    }
   ],
   "source": [
    "fig,((ax1,ax2))=plt.subplots(1,2,figsize=(10,3))\n",
    "data_list=[Pop_table_elephants,male_table,female_table]\n",
    "marker_list=['o','s','^']\n",
    "color_list=['purple','mediumblue','crimson']\n",
    "label_list=['Total population','Males','Females']\n",
    "y_names=['Total','Total_males','Total_females']\n",
    "for i in range (0,3):\n",
    "    sns.lineplot(ax=ax1,\n",
    "    data=data_list[i],\n",
    "    y=y_names[i],\n",
    "    x='Time (Years)',\n",
    "    marker=marker_list[i], \n",
    "    label= label_list[i],\n",
    "    color=color_list[i]\n",
    ")\n",
    "data_list=[sorted_table_males,sorted_table_females]\n",
    "marker_list=['X','D']\n",
    "color_list=['darkblue','deeppink']\n",
    "label_list=['Males','Females']\n",
    "for i in range (0,2):\n",
    "    sns.lineplot(ax=ax2,\n",
    "                data=data_list[i],\n",
    "                x='Time (Years)',\n",
    "                y='Pop_percent',\n",
    "                marker=marker_list[i], \n",
    "                label= label_list[i],\n",
    "                color=color_list[i] )\n",
    "ax1.legend(loc='center left', bbox_to_anchor=(1, 0.5))\n",
    "ax2.set_ylabel('Percent of population')\n",
    "ax1.set_title('Population of asian elephants over time', weight='bold')\n",
    "ax2.set_title('Percent of population per sex over time', weight='bold')\n",
    "plt.tight_layout()"
   ]
  },
  {
   "cell_type": "code",
   "execution_count": 13,
   "metadata": {},
   "outputs": [
    {
     "data": {
      "application/vnd.plotly.v1+json": {
       "config": {
        "plotlyServerURL": "https://plot.ly"
       },
       "data": [
        {
         "marker": {
          "color": "cornflowerblue"
         },
         "name": "Males",
         "orientation": "h",
         "showlegend": false,
         "type": "bar",
         "x": [
          299,
          173,
          113,
          83,
          58,
          42,
          32,
          26,
          19,
          14,
          9,
          5,
          3
         ],
         "xaxis": "x2",
         "y": [
          "Male 0-4.9",
          "Male 5-9.9",
          "Male 10-14.9",
          "Male 15-19.9",
          "Male 20-24.9",
          "Male 25-29.9",
          "Male 30-34.9",
          "Male 35-39.9",
          "Male 40-44.9",
          "Male 45-49.9",
          "Male 50-54.9",
          "Male 55-59.9",
          "Male 60+"
         ],
         "yaxis": "y2"
        },
        {
         "hoverlabel": {
          "align": "left"
         },
         "marker": {
          "color": "lightcoral"
         },
         "name": "Females",
         "orientation": "h",
         "showlegend": false,
         "type": "bar",
         "x": [
          -299,
          -205,
          -173,
          -144,
          -107,
          -89,
          -78,
          -72,
          -63,
          -52,
          -42,
          -21,
          -12
         ],
         "xaxis": "x",
         "y": [
          "Female 0-4.9",
          "Female 5-9.9",
          "Female 10-14.9",
          "Female 15-19.9",
          "Female 20-24.9",
          "Female 25-29.9",
          "Female 30-34.9",
          "Female 35-39.9",
          "Female 40-44.9",
          "Female 45-49.9",
          "Female 50-54.9",
          "Female 55-59.9",
          "Female 60+"
         ],
         "yaxis": "y"
        }
       ],
       "layout": {
        "annotations": [
         {
          "font": {
           "size": 16
          },
          "showarrow": false,
          "text": "Females",
          "x": 0.2475,
          "xanchor": "center",
          "xref": "paper",
          "y": 1,
          "yanchor": "bottom",
          "yref": "paper"
         },
         {
          "font": {
           "size": 16
          },
          "showarrow": false,
          "text": "Males",
          "x": 0.7525,
          "xanchor": "center",
          "xref": "paper",
          "y": 1,
          "yanchor": "bottom",
          "yref": "paper"
         }
        ],
        "plot_bgcolor": "ghostwhite",
        "template": {
         "data": {
          "bar": [
           {
            "error_x": {
             "color": "#2a3f5f"
            },
            "error_y": {
             "color": "#2a3f5f"
            },
            "marker": {
             "line": {
              "color": "#E5ECF6",
              "width": 0.5
             },
             "pattern": {
              "fillmode": "overlay",
              "size": 10,
              "solidity": 0.2
             }
            },
            "type": "bar"
           }
          ],
          "barpolar": [
           {
            "marker": {
             "line": {
              "color": "#E5ECF6",
              "width": 0.5
             },
             "pattern": {
              "fillmode": "overlay",
              "size": 10,
              "solidity": 0.2
             }
            },
            "type": "barpolar"
           }
          ],
          "carpet": [
           {
            "aaxis": {
             "endlinecolor": "#2a3f5f",
             "gridcolor": "white",
             "linecolor": "white",
             "minorgridcolor": "white",
             "startlinecolor": "#2a3f5f"
            },
            "baxis": {
             "endlinecolor": "#2a3f5f",
             "gridcolor": "white",
             "linecolor": "white",
             "minorgridcolor": "white",
             "startlinecolor": "#2a3f5f"
            },
            "type": "carpet"
           }
          ],
          "choropleth": [
           {
            "colorbar": {
             "outlinewidth": 0,
             "ticks": ""
            },
            "type": "choropleth"
           }
          ],
          "contour": [
           {
            "colorbar": {
             "outlinewidth": 0,
             "ticks": ""
            },
            "colorscale": [
             [
              0,
              "#0d0887"
             ],
             [
              0.1111111111111111,
              "#46039f"
             ],
             [
              0.2222222222222222,
              "#7201a8"
             ],
             [
              0.3333333333333333,
              "#9c179e"
             ],
             [
              0.4444444444444444,
              "#bd3786"
             ],
             [
              0.5555555555555556,
              "#d8576b"
             ],
             [
              0.6666666666666666,
              "#ed7953"
             ],
             [
              0.7777777777777778,
              "#fb9f3a"
             ],
             [
              0.8888888888888888,
              "#fdca26"
             ],
             [
              1,
              "#f0f921"
             ]
            ],
            "type": "contour"
           }
          ],
          "contourcarpet": [
           {
            "colorbar": {
             "outlinewidth": 0,
             "ticks": ""
            },
            "type": "contourcarpet"
           }
          ],
          "heatmap": [
           {
            "colorbar": {
             "outlinewidth": 0,
             "ticks": ""
            },
            "colorscale": [
             [
              0,
              "#0d0887"
             ],
             [
              0.1111111111111111,
              "#46039f"
             ],
             [
              0.2222222222222222,
              "#7201a8"
             ],
             [
              0.3333333333333333,
              "#9c179e"
             ],
             [
              0.4444444444444444,
              "#bd3786"
             ],
             [
              0.5555555555555556,
              "#d8576b"
             ],
             [
              0.6666666666666666,
              "#ed7953"
             ],
             [
              0.7777777777777778,
              "#fb9f3a"
             ],
             [
              0.8888888888888888,
              "#fdca26"
             ],
             [
              1,
              "#f0f921"
             ]
            ],
            "type": "heatmap"
           }
          ],
          "heatmapgl": [
           {
            "colorbar": {
             "outlinewidth": 0,
             "ticks": ""
            },
            "colorscale": [
             [
              0,
              "#0d0887"
             ],
             [
              0.1111111111111111,
              "#46039f"
             ],
             [
              0.2222222222222222,
              "#7201a8"
             ],
             [
              0.3333333333333333,
              "#9c179e"
             ],
             [
              0.4444444444444444,
              "#bd3786"
             ],
             [
              0.5555555555555556,
              "#d8576b"
             ],
             [
              0.6666666666666666,
              "#ed7953"
             ],
             [
              0.7777777777777778,
              "#fb9f3a"
             ],
             [
              0.8888888888888888,
              "#fdca26"
             ],
             [
              1,
              "#f0f921"
             ]
            ],
            "type": "heatmapgl"
           }
          ],
          "histogram": [
           {
            "marker": {
             "pattern": {
              "fillmode": "overlay",
              "size": 10,
              "solidity": 0.2
             }
            },
            "type": "histogram"
           }
          ],
          "histogram2d": [
           {
            "colorbar": {
             "outlinewidth": 0,
             "ticks": ""
            },
            "colorscale": [
             [
              0,
              "#0d0887"
             ],
             [
              0.1111111111111111,
              "#46039f"
             ],
             [
              0.2222222222222222,
              "#7201a8"
             ],
             [
              0.3333333333333333,
              "#9c179e"
             ],
             [
              0.4444444444444444,
              "#bd3786"
             ],
             [
              0.5555555555555556,
              "#d8576b"
             ],
             [
              0.6666666666666666,
              "#ed7953"
             ],
             [
              0.7777777777777778,
              "#fb9f3a"
             ],
             [
              0.8888888888888888,
              "#fdca26"
             ],
             [
              1,
              "#f0f921"
             ]
            ],
            "type": "histogram2d"
           }
          ],
          "histogram2dcontour": [
           {
            "colorbar": {
             "outlinewidth": 0,
             "ticks": ""
            },
            "colorscale": [
             [
              0,
              "#0d0887"
             ],
             [
              0.1111111111111111,
              "#46039f"
             ],
             [
              0.2222222222222222,
              "#7201a8"
             ],
             [
              0.3333333333333333,
              "#9c179e"
             ],
             [
              0.4444444444444444,
              "#bd3786"
             ],
             [
              0.5555555555555556,
              "#d8576b"
             ],
             [
              0.6666666666666666,
              "#ed7953"
             ],
             [
              0.7777777777777778,
              "#fb9f3a"
             ],
             [
              0.8888888888888888,
              "#fdca26"
             ],
             [
              1,
              "#f0f921"
             ]
            ],
            "type": "histogram2dcontour"
           }
          ],
          "mesh3d": [
           {
            "colorbar": {
             "outlinewidth": 0,
             "ticks": ""
            },
            "type": "mesh3d"
           }
          ],
          "parcoords": [
           {
            "line": {
             "colorbar": {
              "outlinewidth": 0,
              "ticks": ""
             }
            },
            "type": "parcoords"
           }
          ],
          "pie": [
           {
            "automargin": true,
            "type": "pie"
           }
          ],
          "scatter": [
           {
            "fillpattern": {
             "fillmode": "overlay",
             "size": 10,
             "solidity": 0.2
            },
            "type": "scatter"
           }
          ],
          "scatter3d": [
           {
            "line": {
             "colorbar": {
              "outlinewidth": 0,
              "ticks": ""
             }
            },
            "marker": {
             "colorbar": {
              "outlinewidth": 0,
              "ticks": ""
             }
            },
            "type": "scatter3d"
           }
          ],
          "scattercarpet": [
           {
            "marker": {
             "colorbar": {
              "outlinewidth": 0,
              "ticks": ""
             }
            },
            "type": "scattercarpet"
           }
          ],
          "scattergeo": [
           {
            "marker": {
             "colorbar": {
              "outlinewidth": 0,
              "ticks": ""
             }
            },
            "type": "scattergeo"
           }
          ],
          "scattergl": [
           {
            "marker": {
             "colorbar": {
              "outlinewidth": 0,
              "ticks": ""
             }
            },
            "type": "scattergl"
           }
          ],
          "scattermapbox": [
           {
            "marker": {
             "colorbar": {
              "outlinewidth": 0,
              "ticks": ""
             }
            },
            "type": "scattermapbox"
           }
          ],
          "scatterpolar": [
           {
            "marker": {
             "colorbar": {
              "outlinewidth": 0,
              "ticks": ""
             }
            },
            "type": "scatterpolar"
           }
          ],
          "scatterpolargl": [
           {
            "marker": {
             "colorbar": {
              "outlinewidth": 0,
              "ticks": ""
             }
            },
            "type": "scatterpolargl"
           }
          ],
          "scatterternary": [
           {
            "marker": {
             "colorbar": {
              "outlinewidth": 0,
              "ticks": ""
             }
            },
            "type": "scatterternary"
           }
          ],
          "surface": [
           {
            "colorbar": {
             "outlinewidth": 0,
             "ticks": ""
            },
            "colorscale": [
             [
              0,
              "#0d0887"
             ],
             [
              0.1111111111111111,
              "#46039f"
             ],
             [
              0.2222222222222222,
              "#7201a8"
             ],
             [
              0.3333333333333333,
              "#9c179e"
             ],
             [
              0.4444444444444444,
              "#bd3786"
             ],
             [
              0.5555555555555556,
              "#d8576b"
             ],
             [
              0.6666666666666666,
              "#ed7953"
             ],
             [
              0.7777777777777778,
              "#fb9f3a"
             ],
             [
              0.8888888888888888,
              "#fdca26"
             ],
             [
              1,
              "#f0f921"
             ]
            ],
            "type": "surface"
           }
          ],
          "table": [
           {
            "cells": {
             "fill": {
              "color": "#EBF0F8"
             },
             "line": {
              "color": "white"
             }
            },
            "header": {
             "fill": {
              "color": "#C8D4E3"
             },
             "line": {
              "color": "white"
             }
            },
            "type": "table"
           }
          ]
         },
         "layout": {
          "annotationdefaults": {
           "arrowcolor": "#2a3f5f",
           "arrowhead": 0,
           "arrowwidth": 1
          },
          "autotypenumbers": "strict",
          "coloraxis": {
           "colorbar": {
            "outlinewidth": 0,
            "ticks": ""
           }
          },
          "colorscale": {
           "diverging": [
            [
             0,
             "#8e0152"
            ],
            [
             0.1,
             "#c51b7d"
            ],
            [
             0.2,
             "#de77ae"
            ],
            [
             0.3,
             "#f1b6da"
            ],
            [
             0.4,
             "#fde0ef"
            ],
            [
             0.5,
             "#f7f7f7"
            ],
            [
             0.6,
             "#e6f5d0"
            ],
            [
             0.7,
             "#b8e186"
            ],
            [
             0.8,
             "#7fbc41"
            ],
            [
             0.9,
             "#4d9221"
            ],
            [
             1,
             "#276419"
            ]
           ],
           "sequential": [
            [
             0,
             "#0d0887"
            ],
            [
             0.1111111111111111,
             "#46039f"
            ],
            [
             0.2222222222222222,
             "#7201a8"
            ],
            [
             0.3333333333333333,
             "#9c179e"
            ],
            [
             0.4444444444444444,
             "#bd3786"
            ],
            [
             0.5555555555555556,
             "#d8576b"
            ],
            [
             0.6666666666666666,
             "#ed7953"
            ],
            [
             0.7777777777777778,
             "#fb9f3a"
            ],
            [
             0.8888888888888888,
             "#fdca26"
            ],
            [
             1,
             "#f0f921"
            ]
           ],
           "sequentialminus": [
            [
             0,
             "#0d0887"
            ],
            [
             0.1111111111111111,
             "#46039f"
            ],
            [
             0.2222222222222222,
             "#7201a8"
            ],
            [
             0.3333333333333333,
             "#9c179e"
            ],
            [
             0.4444444444444444,
             "#bd3786"
            ],
            [
             0.5555555555555556,
             "#d8576b"
            ],
            [
             0.6666666666666666,
             "#ed7953"
            ],
            [
             0.7777777777777778,
             "#fb9f3a"
            ],
            [
             0.8888888888888888,
             "#fdca26"
            ],
            [
             1,
             "#f0f921"
            ]
           ]
          },
          "colorway": [
           "#636efa",
           "#EF553B",
           "#00cc96",
           "#ab63fa",
           "#FFA15A",
           "#19d3f3",
           "#FF6692",
           "#B6E880",
           "#FF97FF",
           "#FECB52"
          ],
          "font": {
           "color": "#2a3f5f"
          },
          "geo": {
           "bgcolor": "white",
           "lakecolor": "white",
           "landcolor": "#E5ECF6",
           "showlakes": true,
           "showland": true,
           "subunitcolor": "white"
          },
          "hoverlabel": {
           "align": "left"
          },
          "hovermode": "closest",
          "mapbox": {
           "style": "light"
          },
          "paper_bgcolor": "white",
          "plot_bgcolor": "#E5ECF6",
          "polar": {
           "angularaxis": {
            "gridcolor": "white",
            "linecolor": "white",
            "ticks": ""
           },
           "bgcolor": "#E5ECF6",
           "radialaxis": {
            "gridcolor": "white",
            "linecolor": "white",
            "ticks": ""
           }
          },
          "scene": {
           "xaxis": {
            "backgroundcolor": "#E5ECF6",
            "gridcolor": "white",
            "gridwidth": 2,
            "linecolor": "white",
            "showbackground": true,
            "ticks": "",
            "zerolinecolor": "white"
           },
           "yaxis": {
            "backgroundcolor": "#E5ECF6",
            "gridcolor": "white",
            "gridwidth": 2,
            "linecolor": "white",
            "showbackground": true,
            "ticks": "",
            "zerolinecolor": "white"
           },
           "zaxis": {
            "backgroundcolor": "#E5ECF6",
            "gridcolor": "white",
            "gridwidth": 2,
            "linecolor": "white",
            "showbackground": true,
            "ticks": "",
            "zerolinecolor": "white"
           }
          },
          "shapedefaults": {
           "line": {
            "color": "#2a3f5f"
           }
          },
          "ternary": {
           "aaxis": {
            "gridcolor": "white",
            "linecolor": "white",
            "ticks": ""
           },
           "baxis": {
            "gridcolor": "white",
            "linecolor": "white",
            "ticks": ""
           },
           "bgcolor": "#E5ECF6",
           "caxis": {
            "gridcolor": "white",
            "linecolor": "white",
            "ticks": ""
           }
          },
          "title": {
           "x": 0.05
          },
          "xaxis": {
           "automargin": true,
           "gridcolor": "white",
           "linecolor": "white",
           "ticks": "",
           "title": {
            "standoff": 15
           },
           "zerolinecolor": "white",
           "zerolinewidth": 2
          },
          "yaxis": {
           "automargin": true,
           "gridcolor": "white",
           "linecolor": "white",
           "ticks": "",
           "title": {
            "standoff": 15
           },
           "zerolinecolor": "white",
           "zerolinewidth": 2
          }
         }
        },
        "title": {
         "text": "Population Pyramid year 100"
        },
        "xaxis": {
         "anchor": "y",
         "domain": [
          0,
          0.495
         ],
         "gridcolor": "lightgrey",
         "range": [
          -299,
          0
         ],
         "title": {
          "text": "Population counts"
         }
        },
        "xaxis2": {
         "anchor": "y2",
         "domain": [
          0.505,
          1
         ],
         "gridcolor": "lightgrey",
         "range": [
          0,
          299
         ],
         "title": {
          "text": "Population counts"
         }
        },
        "yaxis": {
         "anchor": "x",
         "domain": [
          0,
          1
         ],
         "title": {
          "text": "Age"
         }
        },
        "yaxis2": {
         "anchor": "x2",
         "domain": [
          0,
          1
         ],
         "side": "right"
        }
       }
      }
     },
     "metadata": {},
     "output_type": "display_data"
    }
   ],
   "source": [
    "#Now for another animation, I tried to use plotly express, but that doesn´t support subplots, so I did something similar to the last one\n",
    "#AI worked overtime to set up finer details like the layout, and helped me learning plotly in general\n",
    "years=males_tidy['Time (Years)'].unique()\n",
    "for year in years:\n",
    "        fig = make_subplots(rows=1, cols=2, subplot_titles=(\"Females\", \"Males\"), horizontal_spacing=0.01)\n",
    "        max_population = max(males_tidy['Population'].max(), females_tidy['Population'].max())\n",
    "        fig.update_xaxes(range=[-max_population,0], row=1, col=1)\n",
    "        fig.update_xaxes(range=[0, max_population], row=1, col=2)\n",
    "\n",
    "        male_pop=males_tidy.loc[males_tidy[\"Time (Years)\"]==year ]\n",
    "        fig.add_trace(\n",
    "            go.Bar(\n",
    "                x=male_pop['Population'],\n",
    "                y=male_pop['Stage'],\n",
    "                name='Males',\n",
    "                marker_color='cornflowerblue',\n",
    "                orientation='h',\n",
    "                showlegend=False\n",
    "            ),\n",
    "            row=1, col=2\n",
    "            )\n",
    "        female_pop=females_tidy.loc[females_tidy[\"Time (Years)\"]==year ]\n",
    "\n",
    "        fig.add_trace(\n",
    "        go.Bar(\n",
    "            x=female_pop['Population'] * -1,\n",
    "            y=female_pop['Stage'],\n",
    "            name='Females',\n",
    "            marker_color='lightcoral',\n",
    "            orientation='h',\n",
    "            showlegend=False,\n",
    "             hoverlabel=dict(\n",
    "            align='left'  \n",
    "        )\n",
    "        ),\n",
    "        row=1, col=1\n",
    "    )\n",
    "\n",
    "        fig.update_layout(\n",
    "        title=(\"Population Pyramid year \" + str(int(year))) ,\n",
    "        xaxis=dict(title=\"Population counts\",gridcolor='lightgrey'),\n",
    "        yaxis=dict(title=\"Age\"),\n",
    "        plot_bgcolor='ghostwhite',\n",
    "        yaxis2=dict(side='right'),\n",
    "        xaxis2=dict(title=\"Population counts\",gridcolor='lightgrey')\n",
    ")\n",
    "\n",
    "        fig.show()\n",
    "        time.sleep(3)\n",
    "        clear_output(wait=True)  #Delete/inactivate this line in order to see all pop pyramyds from all years.\n"
   ]
  },
  {
   "cell_type": "markdown",
   "metadata": {},
   "source": [
    "The population pyramid reveals a hidden fact within this Leslie matrix: male Asian elephants have lower overall survival rates than their female counterparts, resulting in communities with more females than males. While this fact may seem alarming at first glance, it makes evolutionary sense. To ensure the reproductive success of the community, a large number of females and few males are necessary. This is because while a female can be pregnant with one baby elephant at a time, a male elephant can father offspring with many females. Therefore, despite this population dynamic, elephant communities do not die out. Overall, this population structure functions effectively."
   ]
  },
  {
   "cell_type": "markdown",
   "metadata": {},
   "source": [
    "## **Conclusions**\n",
    "\n",
    "Leslie population models are powerful mathematical tools for understanding population dynamics and predicting the development of populations of various sizes. They have proven to be valuable in fields such as biology, ecology, and conservation. However, field research remains essential to gather accurate and real data, providing a more comprehensive understanding of population phenomena."
   ]
  },
  {
   "cell_type": "markdown",
   "metadata": {},
   "source": [
    "\n",
    "## References \n",
    "Kajin, M., Almeida, P. J., Vieira, M. V., & Cerqueira, R. (2012). The state of the art of population projection models: from the Leslie matrix to evolutionary demography. Oecologia Australis, 16(1), 13-22.\n",
    "\n",
    "Leslie, P. H. (1945). On the Use of Matrices in Certain Population Mathematics. Biometrika, 33(3), 183–212. https://doi.org/10.2307/2332297\n",
    "\n",
    "Kendall, B. E., Fujiwara, M., Diaz-Lopez, J., Schneider, S., Voigt, J., & Wiesner, S. (2019). Persistent problems in the construction of matrix population models. Ecological modelling, 406, 33-43.\n",
    "\n",
    "Griebeler, E. M., & Werner, J. (2011). The life cycle of sauropod dinosaurs. Biology of the sauropod dinosaurs: Understanding the life of giants, 263-275.\n",
    "\n",
    "COMADRE database. *Crocodylus acutus* .Retrieved from: https://compadre-db.org/Species/48350\n",
    "\n",
    "COMADRE database. *Elephas maximus* .Retrieved from: https://compadre-db.org/Species/48281"
   ]
  }
 ],
 "metadata": {
  "kernelspec": {
   "display_name": "vscode-notebook-env",
   "language": "python",
   "name": "vscode-notebook-env"
  },
  "language_info": {
   "codemirror_mode": {
    "name": "ipython",
    "version": 3
   },
   "file_extension": ".py",
   "mimetype": "text/x-python",
   "name": "python",
   "nbconvert_exporter": "python",
   "pygments_lexer": "ipython3",
   "version": "3.12.3"
  }
 },
 "nbformat": 4,
 "nbformat_minor": 2
}
